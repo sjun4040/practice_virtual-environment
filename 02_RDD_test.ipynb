{
 "cells": [
  {
   "cell_type": "code",
   "execution_count": 3,
   "id": "e625b832-e108-49b2-8ac8-5345bb8a2b44",
   "metadata": {},
   "outputs": [],
   "source": [
    "from pyspark.sql import SparkSession\n",
    "spark = SparkSession.builder.appName('pyspark example2').getOrCreate()"
   ]
  },
  {
   "cell_type": "markdown",
   "id": "32461ce2-5390-46df-a5b0-b4d7b67aff69",
   "metadata": {},
   "source": [
    "# RDD에서 다룰 수 있는 데이터 타입 TypeSafe\n",
    "1. 비정형 데이터 - ...json, txt, str\n",
    "2. 정형 데이터 - 리스트 ,csv, table"
   ]
  },
  {
   "cell_type": "code",
   "execution_count": 4,
   "id": "9021b270-146b-46b5-be38-eb8b0782c4e1",
   "metadata": {},
   "outputs": [
    {
     "data": {
      "text/plain": [
       "learning_spark_data/log.txt MapPartitionsRDD[1] at textFile at NativeMethodAccessorImpl.java:0"
      ]
     },
     "execution_count": 4,
     "metadata": {},
     "output_type": "execute_result"
    }
   ],
   "source": [
    "# RDD[str]\n",
    "rdd1 = spark.sparkContext.textFile('learning_spark_data/log.txt')\n",
    "rdd1"
   ]
  },
  {
   "cell_type": "code",
   "execution_count": 5,
   "id": "d3a0e6e9-2176-4d30-b6c4-0df136553ae2",
   "metadata": {},
   "outputs": [
    {
     "data": {
      "text/plain": [
       "['2025-07-31 10:00:01 INFO User=kim ACTION=LOGIN RESULT=SUCCESS',\n",
       " '2025-07-31 10:05:43 WARN User=lee ACTION=DOWNLOAD RESULT=FAIL',\n",
       " '2025-07-31 10:08:22 INFO User=park ACTION=UPLOAD RESULT=SUCCESS']"
      ]
     },
     "execution_count": 5,
     "metadata": {},
     "output_type": "execute_result"
    }
   ],
   "source": [
    "rdd1.take(3)"
   ]
  },
  {
   "cell_type": "code",
   "execution_count": 6,
   "id": "d7a556fe-e415-4b3c-b0a0-01357321b2a8",
   "metadata": {},
   "outputs": [],
   "source": [
    "#RDD[dict] - data.json"
   ]
  },
  {
   "cell_type": "code",
   "execution_count": 7,
   "id": "371a744a-ce52-45c1-9207-11bdad64d613",
   "metadata": {},
   "outputs": [
    {
     "data": {
      "text/plain": [
       "PythonRDD[5] at RDD at PythonRDD.scala:53"
      ]
     },
     "execution_count": 7,
     "metadata": {},
     "output_type": "execute_result"
    }
   ],
   "source": [
    "import json\n",
    "rdd2 = spark.sparkContext.textFile('learning_spark_data/data.json').map(json.loads)\n",
    "rdd2"
   ]
  },
  {
   "cell_type": "code",
   "execution_count": 8,
   "id": "17895b4b-262c-4935-b28f-399eee936dd5",
   "metadata": {},
   "outputs": [
    {
     "data": {
      "text/plain": [
       "[{'user': 'kim',\n",
       "  'action': 'login',\n",
       "  'result': 'success',\n",
       "  'time': '2025-07-31 10:00:01'},\n",
       " {'user': 'lee',\n",
       "  'action': 'download',\n",
       "  'result': 'fail',\n",
       "  'time': '2025-07-31 10:05:43'},\n",
       " {'user': 'park',\n",
       "  'action': 'upload',\n",
       "  'result': 'success',\n",
       "  'time': '2025-07-31 10:08:22'}]"
      ]
     },
     "execution_count": 8,
     "metadata": {},
     "output_type": "execute_result"
    }
   ],
   "source": [
    "rdd2.take(3)"
   ]
  },
  {
   "cell_type": "code",
   "execution_count": 3,
   "id": "9dba84bd-0977-4335-bc7b-c1c6a3c49f23",
   "metadata": {},
   "outputs": [],
   "source": [
    "# spark.stop()"
   ]
  },
  {
   "cell_type": "markdown",
   "id": "c0f9d3ee-43a7-47a7-850b-f3892efae287",
   "metadata": {},
   "source": [
    "RDD의 데이터 읽기 패턴\n",
    "1. RDD 생성 - type 지정 x \n",
    "2. 형식 변환 - map()\n",
    "3. take(n)"
   ]
  },
  {
   "cell_type": "markdown",
   "id": "4f0df177-98a7-422c-a329-7d258a47d5ad",
   "metadata": {},
   "source": [
    "# 스파크컨텍스트 객체\n",
    "\n",
    "1. SparkSession.getOrCreate() -> 세션객체로부터 사전에 설정된 변수에 맞춰 컨텍스트 생성\n",
    "2. SparkConf + SparkContext -> 저수준 연산에 적합한 방식"
   ]
  },
  {
   "cell_type": "code",
   "execution_count": 4,
   "id": "0f434810-d70e-43bc-b088-994bf9b9cce3",
   "metadata": {},
   "outputs": [
    {
     "data": {
      "text/plain": [
       "<pyspark.conf.SparkConf at 0x7faff8fa9850>"
      ]
     },
     "execution_count": 4,
     "metadata": {},
     "output_type": "execute_result"
    }
   ],
   "source": [
    "from pyspark import SparkConf, SparkContext\n",
    "conf = SparkConf().setMaster('local').setAppName('country-student-counts2')\n",
    "conf"
   ]
  },
  {
   "cell_type": "code",
   "execution_count": 5,
   "id": "211ce6b6-8063-4185-9d9c-a7283feca439",
   "metadata": {},
   "outputs": [
    {
     "data": {
      "text/html": [
       "\n",
       "        <div>\n",
       "            <p><b>SparkContext</b></p>\n",
       "\n",
       "            <p><a href=\"http://792b6796fe0c:4040\">Spark UI</a></p>\n",
       "\n",
       "            <dl>\n",
       "              <dt>Version</dt>\n",
       "                <dd><code>v3.5.0</code></dd>\n",
       "              <dt>Master</dt>\n",
       "                <dd><code>local</code></dd>\n",
       "              <dt>AppName</dt>\n",
       "                <dd><code>country-student-counts2</code></dd>\n",
       "            </dl>\n",
       "        </div>\n",
       "        "
      ],
      "text/plain": [
       "<SparkContext master=local appName=country-student-counts2>"
      ]
     },
     "execution_count": 5,
     "metadata": {},
     "output_type": "execute_result"
    }
   ],
   "source": [
    "spark = SparkContext(conf = conf).getOrCreate()\n",
    "spark"
   ]
  },
  {
   "cell_type": "code",
   "execution_count": 6,
   "id": "b5174a54-bc88-4d95-a699-b227eb14fc7c",
   "metadata": {},
   "outputs": [
    {
     "data": {
      "text/plain": [
       "[('spark.master', 'local'),\n",
       " ('spark.app.id', 'local-1754023854015'),\n",
       " ('spark.app.startTime', '1754023853649'),\n",
       " ('spark.executor.id', 'driver'),\n",
       " ('spark.app.submitTime', '1754023853526'),\n",
       " ('spark.driver.extraJavaOptions',\n",
       "  '-Djava.net.preferIPv6Addresses=false -XX:+IgnoreUnrecognizedVMOptions --add-opens=java.base/java.lang=ALL-UNNAMED --add-opens=java.base/java.lang.invoke=ALL-UNNAMED --add-opens=java.base/java.lang.reflect=ALL-UNNAMED --add-opens=java.base/java.io=ALL-UNNAMED --add-opens=java.base/java.net=ALL-UNNAMED --add-opens=java.base/java.nio=ALL-UNNAMED --add-opens=java.base/java.util=ALL-UNNAMED --add-opens=java.base/java.util.concurrent=ALL-UNNAMED --add-opens=java.base/java.util.concurrent.atomic=ALL-UNNAMED --add-opens=java.base/sun.nio.ch=ALL-UNNAMED --add-opens=java.base/sun.nio.cs=ALL-UNNAMED --add-opens=java.base/sun.security.action=ALL-UNNAMED --add-opens=java.base/sun.util.calendar=ALL-UNNAMED --add-opens=java.security.jgss/sun.security.krb5=ALL-UNNAMED -Djdk.reflect.useDirectMethodHandle=false'),\n",
       " ('spark.app.name', 'country-student-counts2'),\n",
       " ('spark.driver.host', '792b6796fe0c'),\n",
       " ('spark.rdd.compress', 'True'),\n",
       " ('spark.serializer.objectStreamReset', '100'),\n",
       " ('spark.submit.pyFiles', ''),\n",
       " ('spark.submit.deployMode', 'client'),\n",
       " ('spark.driver.port', '40419'),\n",
       " ('spark.ui.showConsoleProgress', 'true'),\n",
       " ('spark.executor.extraJavaOptions',\n",
       "  '-Djava.net.preferIPv6Addresses=false -XX:+IgnoreUnrecognizedVMOptions --add-opens=java.base/java.lang=ALL-UNNAMED --add-opens=java.base/java.lang.invoke=ALL-UNNAMED --add-opens=java.base/java.lang.reflect=ALL-UNNAMED --add-opens=java.base/java.io=ALL-UNNAMED --add-opens=java.base/java.net=ALL-UNNAMED --add-opens=java.base/java.nio=ALL-UNNAMED --add-opens=java.base/java.util=ALL-UNNAMED --add-opens=java.base/java.util.concurrent=ALL-UNNAMED --add-opens=java.base/java.util.concurrent.atomic=ALL-UNNAMED --add-opens=java.base/sun.nio.ch=ALL-UNNAMED --add-opens=java.base/sun.nio.cs=ALL-UNNAMED --add-opens=java.base/sun.security.action=ALL-UNNAMED --add-opens=java.base/sun.util.calendar=ALL-UNNAMED --add-opens=java.security.jgss/sun.security.krb5=ALL-UNNAMED -Djdk.reflect.useDirectMethodHandle=false')]"
      ]
     },
     "execution_count": 6,
     "metadata": {},
     "output_type": "execute_result"
    }
   ],
   "source": [
    "spark.getConf().getAll()"
   ]
  },
  {
   "cell_type": "code",
   "execution_count": 45,
   "id": "66d8f209-29ac-4d90-9a27-142fee189aea",
   "metadata": {},
   "outputs": [],
   "source": [
    "spark.stop()"
   ]
  },
  {
   "cell_type": "code",
   "execution_count": 10,
   "id": "7898111b-2302-45b3-9345-93ffb241538b",
   "metadata": {},
   "outputs": [
    {
     "data": {
      "text/plain": [
       "'/home/jovyan/work/practice_virtual-environment'"
      ]
     },
     "execution_count": 10,
     "metadata": {},
     "output_type": "execute_result"
    }
   ],
   "source": [
    "import os\n",
    "os.getcwd() # 컨테이너 내부 경로"
   ]
  },
  {
   "cell_type": "code",
   "execution_count": 53,
   "id": "c5353904-f3e7-4d7f-96b0-62a9413ac9de",
   "metadata": {},
   "outputs": [],
   "source": [
    "dir = os.path.join(os.getcwd(), 'learning_spark_data')"
   ]
  },
  {
   "cell_type": "code",
   "execution_count": 54,
   "id": "b7449cf7-ce15-436e-ab7c-bd0b90c39866",
   "metadata": {},
   "outputs": [
    {
     "data": {
      "text/plain": [
       "'/home/jovyan/work/practice_virtual-environment/learning_spark_data'"
      ]
     },
     "execution_count": 54,
     "metadata": {},
     "output_type": "execute_result"
    }
   ],
   "source": [
    "dir"
   ]
  },
  {
   "cell_type": "code",
   "execution_count": 55,
   "id": "ed659a95-c590-4918-94da-0dd91a4e3622",
   "metadata": {},
   "outputs": [
    {
     "data": {
      "text/plain": [
       "'/home/jovyan/work/practice_virtual-environment/learning_spark_data/xApI-Edu_Data.csv'"
      ]
     },
     "execution_count": 55,
     "metadata": {},
     "output_type": "execute_result"
    }
   ],
   "source": [
    "filename = 'xApI-Edu_Data.csv'\n",
    "filepath = os.path.join( dir, filename)\n",
    "filepath"
   ]
  },
  {
   "cell_type": "markdown",
   "id": "142b3fd2-c92f-410c-a1be-94d5d591a541",
   "metadata": {},
   "source": [
    "## 외부저장소에서 데이터를 로드, RDD 생성"
   ]
  },
  {
   "cell_type": "code",
   "execution_count": 64,
   "id": "680b5bd5-a6d7-4d7b-962d-bd0744daa1f7",
   "metadata": {},
   "outputs": [],
   "source": [
    "spark.stop()"
   ]
  },
  {
   "cell_type": "code",
   "execution_count": 65,
   "id": "2db59944-50f6-4699-ad6e-a00a63a8ca07",
   "metadata": {},
   "outputs": [],
   "source": [
    "spark = SparkContext(conf = conf).getOrCreate()"
   ]
  },
  {
   "cell_type": "code",
   "execution_count": 66,
   "id": "d2aff957-ee23-4ccb-b506-ef2ef014233f",
   "metadata": {},
   "outputs": [],
   "source": [
    "filepath = '/home/jovyan/work/practice_virtual-environment/learning_spark_data/xAPI-Edu-Data.csv'\n",
    "lines = spark.textFile('file:///' + filepath.replace('\\\\', '/'))"
   ]
  },
  {
   "cell_type": "code",
   "execution_count": 63,
   "id": "9506796e-f497-4277-a121-503810fba094",
   "metadata": {},
   "outputs": [
    {
     "name": "stdout",
     "output_type": "stream",
     "text": [
      "True\n"
     ]
    }
   ],
   "source": [
    "import os\n",
    "print(os.path.exists('/home/jovyan/work/practice_virtual-environment/learning_spark_data/xApI-Edu_Data.csv'))"
   ]
  },
  {
   "cell_type": "code",
   "execution_count": 67,
   "id": "bed00236-98cb-4fa0-ace6-2b45eee9512d",
   "metadata": {},
   "outputs": [
    {
     "data": {
      "text/plain": [
       "['gender,NationalITy,PlaceofBirth,StageID,GradeID,SectionID,Topic,Semester,Relation,raisedhands,VisITedResources,AnnouncementsView,Discussion,ParentAnsweringSurvey,ParentschoolSatisfaction,StudentAbsenceDays,Class',\n",
       " 'M,KW,KuwaIT,lowerlevel,G-04,A,IT,F,Father,15,16,2,20,Yes,Good,Under-7,M',\n",
       " 'M,KW,KuwaIT,lowerlevel,G-04,A,IT,F,Father,20,20,3,25,Yes,Good,Under-7,M',\n",
       " 'M,KW,KuwaIT,lowerlevel,G-04,A,IT,F,Father,10,7,0,30,No,Bad,Above-7,L',\n",
       " 'M,KW,KuwaIT,lowerlevel,G-04,A,IT,F,Father,30,25,5,35,No,Bad,Above-7,L']"
      ]
     },
     "execution_count": 67,
     "metadata": {},
     "output_type": "execute_result"
    }
   ],
   "source": [
    "lines.take(5)"
   ]
  },
  {
   "cell_type": "code",
   "execution_count": 68,
   "id": "49ca5463-a51d-43fe-bdbd-bf2369319685",
   "metadata": {},
   "outputs": [
    {
     "data": {
      "text/plain": [
       "481"
      ]
     },
     "execution_count": 68,
     "metadata": {},
     "output_type": "execute_result"
    }
   ],
   "source": [
    "lines.count()"
   ]
  },
  {
   "cell_type": "code",
   "execution_count": 69,
   "id": "32f5f74c-761b-445a-aa01-b7a85216eda9",
   "metadata": {},
   "outputs": [],
   "source": [
    "header = lines.first()"
   ]
  },
  {
   "cell_type": "code",
   "execution_count": 71,
   "id": "45f168a0-c20e-4a56-8458-0ac930591a37",
   "metadata": {},
   "outputs": [
    {
     "data": {
      "text/plain": [
       "['M,KW,KuwaIT,lowerlevel,G-04,A,IT,F,Father,15,16,2,20,Yes,Good,Under-7,M',\n",
       " 'M,KW,KuwaIT,lowerlevel,G-04,A,IT,F,Father,20,20,3,25,Yes,Good,Under-7,M',\n",
       " 'M,KW,KuwaIT,lowerlevel,G-04,A,IT,F,Father,10,7,0,30,No,Bad,Above-7,L']"
      ]
     },
     "execution_count": 71,
     "metadata": {},
     "output_type": "execute_result"
    }
   ],
   "source": [
    "datas = lines.filter(lambda row : row != header)\n",
    "datas.take(3)"
   ]
  },
  {
   "cell_type": "code",
   "execution_count": 74,
   "id": "c5e28455-d5e0-4134-8b7a-4ee4f0d89e54",
   "metadata": {},
   "outputs": [
    {
     "data": {
      "text/plain": [
       "PythonRDD[7] at RDD at PythonRDD.scala:53"
      ]
     },
     "execution_count": 74,
     "metadata": {},
     "output_type": "execute_result"
    }
   ],
   "source": [
    "countries = datas.map(lambda row:row.split(',')[2])\n",
    "countries"
   ]
  },
  {
   "cell_type": "code",
   "execution_count": 75,
   "id": "e948297a-7cca-42d4-8a11-a4c9f12e5d0d",
   "metadata": {},
   "outputs": [
    {
     "data": {
      "text/plain": [
       "['KuwaIT', 'KuwaIT', 'KuwaIT']"
      ]
     },
     "execution_count": 75,
     "metadata": {},
     "output_type": "execute_result"
    }
   ],
   "source": [
    "countries.take(3)"
   ]
  },
  {
   "cell_type": "code",
   "execution_count": 76,
   "id": "3d1af734-413b-4847-a04b-ef952346b5a4",
   "metadata": {},
   "outputs": [
    {
     "data": {
      "text/plain": [
       "defaultdict(int,\n",
       "            {'KuwaIT': 180,\n",
       "             'lebanon': 19,\n",
       "             'Egypt': 9,\n",
       "             'SaudiArabia': 16,\n",
       "             'USA': 16,\n",
       "             'Jordan': 176,\n",
       "             'venzuela': 1,\n",
       "             'Iran': 6,\n",
       "             'Tunis': 9,\n",
       "             'Morocco': 4,\n",
       "             'Syria': 6,\n",
       "             'Iraq': 22,\n",
       "             'Palestine': 10,\n",
       "             'Lybia': 6})"
      ]
     },
     "execution_count": 76,
     "metadata": {},
     "output_type": "execute_result"
    }
   ],
   "source": [
    "result = countries.countByValue()\n",
    "result"
   ]
  },
  {
   "cell_type": "code",
   "execution_count": 77,
   "id": "f3d34430-3a50-448c-ac25-5f4759d566b9",
   "metadata": {},
   "outputs": [
    {
     "data": {
      "text/plain": [
       "dict_items([('KuwaIT', 180), ('lebanon', 19), ('Egypt', 9), ('SaudiArabia', 16), ('USA', 16), ('Jordan', 176), ('venzuela', 1), ('Iran', 6), ('Tunis', 9), ('Morocco', 4), ('Syria', 6), ('Iraq', 22), ('Palestine', 10), ('Lybia', 6)])"
      ]
     },
     "execution_count": 77,
     "metadata": {},
     "output_type": "execute_result"
    }
   ],
   "source": [
    "result.items()"
   ]
  },
  {
   "cell_type": "code",
   "execution_count": 83,
   "id": "e8a0fe36-3682-4248-90f3-41322867ac66",
   "metadata": {},
   "outputs": [
    {
     "data": {
      "text/plain": [
       "[('KuwaIT', 180), ('Jordan', 176), ('Iraq', 22)]"
      ]
     },
     "execution_count": 83,
     "metadata": {},
     "output_type": "execute_result"
    }
   ],
   "source": [
    "sorted(result.items(), key = lambda x: x[1], reverse=True)[:3]"
   ]
  },
  {
   "cell_type": "code",
   "execution_count": 86,
   "id": "353d75c1-9a42-4fbf-a9d3-5e1d186d284f",
   "metadata": {},
   "outputs": [
    {
     "data": {
      "text/plain": [
       "480"
      ]
     },
     "execution_count": 86,
     "metadata": {},
     "output_type": "execute_result"
    }
   ],
   "source": [
    "total_su = sum(result.values()) \n",
    "total_su"
   ]
  },
  {
   "cell_type": "code",
   "execution_count": 87,
   "id": "969f9d6b-c034-4a0b-bfa9-7407fcdac21a",
   "metadata": {},
   "outputs": [
    {
     "data": {
      "text/plain": [
       "{'KuwaIT': 37.5,\n",
       " 'lebanon': 3.96,\n",
       " 'Egypt': 1.88,\n",
       " 'SaudiArabia': 3.33,\n",
       " 'USA': 3.33,\n",
       " 'Jordan': 36.67,\n",
       " 'venzuela': 0.21,\n",
       " 'Iran': 1.25,\n",
       " 'Tunis': 1.88,\n",
       " 'Morocco': 0.83,\n",
       " 'Syria': 1.25,\n",
       " 'Iraq': 4.58,\n",
       " 'Palestine': 2.08,\n",
       " 'Lybia': 1.25}"
      ]
     },
     "execution_count": 87,
     "metadata": {},
     "output_type": "execute_result"
    }
   ],
   "source": [
    "# 비율 계산\n",
    "ratios = {k: round(v / total_su *100,2 ) for k, v in result.items()}    \n",
    "ratios"
   ]
  },
  {
   "cell_type": "code",
   "execution_count": 88,
   "id": "5af2ba6b-3346-4e4f-bff7-e5dbbe1d92c1",
   "metadata": {},
   "outputs": [
    {
     "data": {
      "text/plain": [
       "<BarContainer object of 14 artists>"
      ]
     },
     "execution_count": 88,
     "metadata": {},
     "output_type": "execute_result"
    },
    {
     "data": {
      "image/png": "[encoded data removed]",
      "text/plain": [
       "<Figure size 640x480 with 1 Axes>"
      ]
     },
     "metadata": {},
     "output_type": "display_data"
    }
   ],
   "source": [
    "import matplotlib.pyplot as plt\n",
    "countries = list(result.keys())\n",
    "counts = list(result.values())\n",
    "plt.bar(countries, counts)"
   ]
  },
  {
   "cell_type": "code",
   "execution_count": 89,
   "id": "7bb5e416-1434-45e8-a50c-209577dfa4f9",
   "metadata": {},
   "outputs": [],
   "source": [
    "# rdd 연습"
   ]
  },
  {
   "cell_type": "code",
   "execution_count": 116,
   "id": "b1f3949d-c98a-4dbe-b83f-c53ac0be1941",
   "metadata": {},
   "outputs": [],
   "source": [
    "# 2. RDD 생성 - 기본 리스트 \n",
    "data = [\"KuwaIT\", \"lebanon\", \"Jordan\", \"Jordan\", \"USA\", \"Egypt\", \n",
    "        \"Jordan\", \"USA\", \"Iran\", \"Iran\", \"KuwaIT\"]\n",
    "rdd = spark.parallelize(data)"
   ]
  },
  {
   "cell_type": "code",
   "execution_count": 117,
   "id": "728ac8cc-782d-433c-83f8-4ba4cbdbd1f1",
   "metadata": {},
   "outputs": [
    {
     "data": {
      "text/plain": [
       "['kuwait', 'lebanon', 'jordan']"
      ]
     },
     "execution_count": 117,
     "metadata": {},
     "output_type": "execute_result"
    }
   ],
   "source": [
    "# 소문자로 변환 lower()\n",
    "rdd1 = rdd.map(lambda x: x.lower())\n",
    "rdd1.take(3)"
   ]
  },
  {
   "cell_type": "code",
   "execution_count": 128,
   "id": "b599d1db-0254-4260-b3a2-ce371f027471",
   "metadata": {},
   "outputs": [
    {
     "data": {
      "text/plain": [
       "['jordan', 'jordan', 'jordan']"
      ]
     },
     "execution_count": 128,
     "metadata": {},
     "output_type": "execute_result"
    }
   ],
   "source": [
    "# jordan 추출\n",
    "rdd2 = rdd1.filter(lambda x: x=='jordan')\n",
    "rdd2.take(10)"
   ]
  },
  {
   "cell_type": "code",
   "execution_count": 145,
   "id": "2d046c4e-56fd-4f97-ab59-4bc575074f0c",
   "metadata": {},
   "outputs": [
    {
     "data": {
      "text/plain": [
       "6"
      ]
     },
     "execution_count": 145,
     "metadata": {},
     "output_type": "execute_result"
    }
   ],
   "source": [
    "# 몇 개국인지 세어보기 : distinct() > count()\n",
    "rdd1.distinct().count()"
   ]
  },
  {
   "cell_type": "code",
   "execution_count": null,
   "id": "2c46980b-ab0d-40bf-8f7f-9e889f70d2b8",
   "metadata": {},
   "outputs": [],
   "source": [
    "# 국가별 빈도수 "
   ]
  },
  {
   "cell_type": "code",
   "execution_count": 130,
   "id": "77213e61-3d7d-4980-9996-2f38ae784240",
   "metadata": {},
   "outputs": [
    {
     "data": {
      "text/plain": [
       "['KuwaIT',\n",
       " 'lebanon',\n",
       " 'Jordan',\n",
       " 'Jordan',\n",
       " 'USA',\n",
       " 'Egypt',\n",
       " 'Jordan',\n",
       " 'USA',\n",
       " 'Iran',\n",
       " 'Iran',\n",
       " 'KuwaIT']"
      ]
     },
     "execution_count": 130,
     "metadata": {},
     "output_type": "execute_result"
    }
   ],
   "source": [
    "data"
   ]
  },
  {
   "cell_type": "code",
   "execution_count": 132,
   "id": "570c1bee-f138-4782-b747-a214e6b91b7f",
   "metadata": {},
   "outputs": [
    {
     "data": {
      "text/plain": [
       "[('kuwait', 1)]"
      ]
     },
     "execution_count": 132,
     "metadata": {},
     "output_type": "execute_result"
    }
   ],
   "source": [
    "country_pairs = rdd1.map(lambda x: (x,1))\n",
    "country_pairs.take(1)"
   ]
  },
  {
   "cell_type": "code",
   "execution_count": 133,
   "id": "f2b8e308-9f6e-4a9e-8890-7c8d9e20e2f8",
   "metadata": {},
   "outputs": [
    {
     "data": {
      "text/plain": [
       "[('kuwait', 2), ('lebanon', 1)]"
      ]
     },
     "execution_count": 133,
     "metadata": {},
     "output_type": "execute_result"
    }
   ],
   "source": [
    "country_counts = country_pairs.reduceByKey(lambda a,b: a+b)\n",
    "country_counts.take(2)"
   ]
  },
  {
   "cell_type": "code",
   "execution_count": 134,
   "id": "f5ec3230-526c-46cf-a14d-7c474382ec30",
   "metadata": {},
   "outputs": [
    {
     "data": {
      "text/plain": [
       "[('kuwait', 2),\n",
       " ('lebanon', 1),\n",
       " ('jordan', 3),\n",
       " ('usa', 2),\n",
       " ('egypt', 1),\n",
       " ('iran', 2)]"
      ]
     },
     "execution_count": 134,
     "metadata": {},
     "output_type": "execute_result"
    }
   ],
   "source": [
    "country_counts.take(6)"
   ]
  },
  {
   "cell_type": "code",
   "execution_count": 135,
   "id": "f00edfb9-d9c9-429b-9d63-7423ad76d2a6",
   "metadata": {},
   "outputs": [
    {
     "data": {
      "text/plain": [
       "[('kuwait', 2),\n",
       " ('lebanon', 1),\n",
       " ('jordan', 3),\n",
       " ('usa', 2),\n",
       " ('egypt', 1),\n",
       " ('iran', 2)]"
      ]
     },
     "execution_count": 135,
     "metadata": {},
     "output_type": "execute_result"
    }
   ],
   "source": [
    "country_counts.collect()"
   ]
  },
  {
   "cell_type": "code",
   "execution_count": 139,
   "id": "4978821a-dd88-41ac-b8e2-872143bb8814",
   "metadata": {},
   "outputs": [
    {
     "data": {
      "text/plain": [
       "[('egypt', 1),\n",
       " ('iran', 2),\n",
       " ('jordan', 3),\n",
       " ('kuwait', 2),\n",
       " ('lebanon', 1),\n",
       " ('usa', 2)]"
      ]
     },
     "execution_count": 139,
     "metadata": {},
     "output_type": "execute_result"
    }
   ],
   "source": [
    "country_counts.sortByKey().collect()"
   ]
  },
  {
   "cell_type": "code",
   "execution_count": 143,
   "id": "2d476a99-7d05-4b06-8c84-f782b97f6275",
   "metadata": {},
   "outputs": [
    {
     "data": {
      "text/plain": [
       "[('jordan', 3),\n",
       " ('kuwait', 2),\n",
       " ('usa', 2),\n",
       " ('iran', 2),\n",
       " ('lebanon', 1),\n",
       " ('egypt', 1)]"
      ]
     },
     "execution_count": 143,
     "metadata": {},
     "output_type": "execute_result"
    }
   ],
   "source": [
    "country_counts.sortBy(lambda x:x[1], ascending=False).collect()"
   ]
  },
  {
   "cell_type": "code",
   "execution_count": 144,
   "id": "0174c6d4-9ed4-4a70-adeb-6a3f48802b9e",
   "metadata": {},
   "outputs": [
    {
     "data": {
      "text/plain": [
       "'kuwait,lebanon,jordan,jordan,usa,egypt,jordan,usa,iran,iran,kuwait'"
      ]
     },
     "execution_count": 144,
     "metadata": {},
     "output_type": "execute_result"
    }
   ],
   "source": [
    "rdd1.reduce(lambda a, b:a+','+b) # 변환"
   ]
  },
  {
   "cell_type": "code",
   "execution_count": 147,
   "id": "821b8197-50d9-4ac9-8a3a-ae9a09d896fd",
   "metadata": {},
   "outputs": [],
   "source": [
    "output_path = 'output/countries_result'"
   ]
  },
  {
   "cell_type": "code",
   "execution_count": 149,
   "id": "6c32dcf5-2581-4ec7-b30d-f021089d1684",
   "metadata": {},
   "outputs": [],
   "source": [
    "import shutil"
   ]
  },
  {
   "cell_type": "code",
   "execution_count": 150,
   "id": "c24649ea-6bae-4573-994a-94139c68b571",
   "metadata": {},
   "outputs": [],
   "source": [
    "if os.path.exists(output_path):\n",
    "    shutil.rmtree(output_path)\n",
    "rdd1.saveAsTextFile(output_path) # 저장소 경로"
   ]
  },
  {
   "cell_type": "markdown",
   "id": "3b5a3f5f-bbd2-4ca9-bf58-bfd8d8577f4a",
   "metadata": {},
   "source": [
    "# mmm데이터 실습"
   ]
  },
  {
   "cell_type": "code",
   "execution_count": 161,
   "id": "8dcfdbff-420f-47a7-b4c9-ebc3ec956044",
   "metadata": {},
   "outputs": [],
   "source": [
    "spark.stop()"
   ]
  },
  {
   "cell_type": "code",
   "execution_count": 159,
   "id": "621bb568-137b-4bde-be60-0caedd15e3ca",
   "metadata": {},
   "outputs": [],
   "source": [
    "from pyspark.sql import SparkSession"
   ]
  },
  {
   "cell_type": "code",
   "execution_count": 162,
   "id": "e61aa9d8-e5f0-4630-9c58-782c5387e6ac",
   "metadata": {},
   "outputs": [],
   "source": [
    "spark = SparkSession.builder.appName('MyApp').getOrCreate()"
   ]
  },
  {
   "cell_type": "code",
   "execution_count": 154,
   "id": "bf7da6d5-2a5b-474a-85aa-03c69b669f09",
   "metadata": {},
   "outputs": [
    {
     "data": {
      "text/plain": [
       "'/home/jovyan/work/practice_virtual-environment/learning_spark_data'"
      ]
     },
     "execution_count": 154,
     "metadata": {},
     "output_type": "execute_result"
    }
   ],
   "source": [
    "dir = os.path.join(os.getcwd(), 'learning_spark_data')\n",
    "dir"
   ]
  },
  {
   "cell_type": "code",
   "execution_count": 155,
   "id": "cb6b48cd-48d0-4eb1-b4cb-cc9c24e8d8b1",
   "metadata": {},
   "outputs": [
    {
     "data": {
      "text/plain": [
       "'/home/jovyan/work/practice_virtual-environment/learning_spark_data/xAPI-Edu-Data.csv'"
      ]
     },
     "execution_count": 155,
     "metadata": {},
     "output_type": "execute_result"
    }
   ],
   "source": [
    "filename_m = 'mnm_dataset.csv'\n",
    "filepath_m = os.path.join( dir, filename)\n",
    "filepath"
   ]
  },
  {
   "cell_type": "code",
   "execution_count": 156,
   "id": "ccdb147c-a3d6-4923-9d9e-4a472e139687",
   "metadata": {},
   "outputs": [],
   "source": [
    "mmm_csv_path = '/home/jovyan/work/practice_virtual-environment/learning_spark_data/xAPI-Edu-Data.csv'"
   ]
  },
  {
   "cell_type": "code",
   "execution_count": 163,
   "id": "40194e39-0b1b-4c25-a34b-c7d0c43790ba",
   "metadata": {},
   "outputs": [
    {
     "data": {
      "text/plain": [
       "[Row(gender='M', NationalITy='KW', PlaceofBirth='KuwaIT', StageID='lowerlevel', GradeID='G-04', SectionID='A', Topic='IT', Semester='F', Relation='Father', raisedhands=15, VisITedResources=16, AnnouncementsView=2, Discussion=20, ParentAnsweringSurvey='Yes', ParentschoolSatisfaction='Good', StudentAbsenceDays='Under-7', Class='M'),\n",
       " Row(gender='M', NationalITy='KW', PlaceofBirth='KuwaIT', StageID='lowerlevel', GradeID='G-04', SectionID='A', Topic='IT', Semester='F', Relation='Father', raisedhands=20, VisITedResources=20, AnnouncementsView=3, Discussion=25, ParentAnsweringSurvey='Yes', ParentschoolSatisfaction='Good', StudentAbsenceDays='Under-7', Class='M'),\n",
       " Row(gender='M', NationalITy='KW', PlaceofBirth='KuwaIT', StageID='lowerlevel', GradeID='G-04', SectionID='A', Topic='IT', Semester='F', Relation='Father', raisedhands=10, VisITedResources=7, AnnouncementsView=0, Discussion=30, ParentAnsweringSurvey='No', ParentschoolSatisfaction='Bad', StudentAbsenceDays='Above-7', Class='L'),\n",
       " Row(gender='M', NationalITy='KW', PlaceofBirth='KuwaIT', StageID='lowerlevel', GradeID='G-04', SectionID='A', Topic='IT', Semester='F', Relation='Father', raisedhands=30, VisITedResources=25, AnnouncementsView=5, Discussion=35, ParentAnsweringSurvey='No', ParentschoolSatisfaction='Bad', StudentAbsenceDays='Above-7', Class='L'),\n",
       " Row(gender='M', NationalITy='KW', PlaceofBirth='KuwaIT', StageID='lowerlevel', GradeID='G-04', SectionID='A', Topic='IT', Semester='F', Relation='Father', raisedhands=40, VisITedResources=50, AnnouncementsView=12, Discussion=50, ParentAnsweringSurvey='No', ParentschoolSatisfaction='Bad', StudentAbsenceDays='Above-7', Class='M')]"
      ]
     },
     "execution_count": 163,
     "metadata": {},
     "output_type": "execute_result"
    }
   ],
   "source": [
    "df = spark.read.option(\"header\", True).option(\"inferSchema\", True).csv(mmm_csv_path)\n",
    "df.head(5)"
   ]
  },
  {
   "cell_type": "code",
   "execution_count": 164,
   "id": "05eace5e-0679-43f9-ad4c-819e8ff75ebd",
   "metadata": {},
   "outputs": [
    {
     "name": "stdout",
     "output_type": "stream",
     "text": [
      "<class 'pyspark.sql.dataframe.DataFrame'>\n"
     ]
    }
   ],
   "source": [
    "print(type(df))"
   ]
  },
  {
   "cell_type": "code",
   "execution_count": 165,
   "id": "62679e84-86ad-4e97-a522-1fd851cde14a",
   "metadata": {},
   "outputs": [
    {
     "name": "stdout",
     "output_type": "stream",
     "text": [
      "+------+-----------+------------+----------+-------+---------+-----+--------+--------+-----------+----------------+-----------------+----------+---------------------+------------------------+------------------+-----+\n",
      "|gender|NationalITy|PlaceofBirth|   StageID|GradeID|SectionID|Topic|Semester|Relation|raisedhands|VisITedResources|AnnouncementsView|Discussion|ParentAnsweringSurvey|ParentschoolSatisfaction|StudentAbsenceDays|Class|\n",
      "+------+-----------+------------+----------+-------+---------+-----+--------+--------+-----------+----------------+-----------------+----------+---------------------+------------------------+------------------+-----+\n",
      "|     M|         KW|      KuwaIT|lowerlevel|   G-04|        A|   IT|       F|  Father|         15|              16|                2|        20|                  Yes|                    Good|           Under-7|    M|\n",
      "|     M|         KW|      KuwaIT|lowerlevel|   G-04|        A|   IT|       F|  Father|         20|              20|                3|        25|                  Yes|                    Good|           Under-7|    M|\n",
      "|     M|         KW|      KuwaIT|lowerlevel|   G-04|        A|   IT|       F|  Father|         10|               7|                0|        30|                   No|                     Bad|           Above-7|    L|\n",
      "|     M|         KW|      KuwaIT|lowerlevel|   G-04|        A|   IT|       F|  Father|         30|              25|                5|        35|                   No|                     Bad|           Above-7|    L|\n",
      "|     M|         KW|      KuwaIT|lowerlevel|   G-04|        A|   IT|       F|  Father|         40|              50|               12|        50|                   No|                     Bad|           Above-7|    M|\n",
      "+------+-----------+------------+----------+-------+---------+-----+--------+--------+-----------+----------------+-----------------+----------+---------------------+------------------------+------------------+-----+\n",
      "only showing top 5 rows\n",
      "\n"
     ]
    }
   ],
   "source": [
    "df.show(5)"
   ]
  },
  {
   "cell_type": "code",
   "execution_count": 176,
   "id": "f7e4d109-6e91-4963-a00e-d04dedbbe046",
   "metadata": {},
   "outputs": [
    {
     "data": {
      "text/plain": [
       "14"
      ]
     },
     "execution_count": 176,
     "metadata": {},
     "output_type": "execute_result"
    }
   ],
   "source": [
    "df_c = df.select('PlaceofBirth').rdd.map(lambda x: x).collect()\n",
    "df.select('PlaceofBirth').distinct().count()"
   ]
  }
 ],
 "metadata": {
  "kernelspec": {
   "display_name": "Python 3 (ipykernel)",
   "language": "python",
   "name": "python3"
  },
  "language_info": {
   "codemirror_mode": {
    "name": "ipython",
    "version": 3
   },
   "file_extension": ".py",
   "mimetype": "text/x-python",
   "name": "python",
   "nbconvert_exporter": "python",
   "pygments_lexer": "ipython3",
   "version": "3.11.6"
  }
 },
 "nbformat": 4,
 "nbformat_minor": 5
}
