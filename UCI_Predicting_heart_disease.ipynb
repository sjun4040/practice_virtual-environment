{
 "cells": [
  {
   "cell_type": "markdown",
   "id": "877a992b-d785-454c-9d0e-509f999d9cbc",
   "metadata": {},
   "source": [
    "# UCI heart disease 데이터를 이용한 심장병 예측 프로젝트"
   ]
  },
  {
   "cell_type": "markdown",
   "id": "508e279d-a3be-472d-89dd-c1465beb8bc8",
   "metadata": {},
   "source": [
    "UCI 데이터 저장소의 심장병 데이터 세트<br>\n",
    "제작자:\n",
    "- 헝가리 심장학 연구소. 부다페스트: Andras Janosi, MD\n",
    "- 스위스 취리히 대학 병원: 윌리엄 슈타인브룬 박사\n",
    "- 스위스 바젤 대학병원: Matthias Pfisterer, MD\n",
    "- VA 의료 센터, 롱비치 및 클리블랜드 클리닉 재단: 로버트 디트라노, MD, Ph.D."
   ]
  },
  {
   "cell_type": "markdown",
   "id": "754f4508-e81c-4e59-956b-4ece1c2ecc9e",
   "metadata": {},
   "source": [
    "출처 : https://www.kaggle.com/datasets/redwankarimsony/heart-disease-data"
   ]
  },
  {
   "cell_type": "code",
   "execution_count": 1,
   "id": "c2d189e8-29e3-46d2-9210-1d10cccb5ea8",
   "metadata": {},
   "outputs": [],
   "source": [
    "from pyspark.sql import SparkSession\n",
    "MAX_MEMORY = '8g'\n",
    "spark = SparkSession.builder.appName(\"Heart_disease\")\\\n",
    "                .config('spark.driver.memory',MAX_MEMORY)\\\n",
    "                .config('spark.executor.memory', MAX_MEMORY)\\\n",
    "                .getOrCreate()"
   ]
  },
  {
   "cell_type": "markdown",
   "id": "0861db03-b628-48f0-bbaf-20f1b6ee277d",
   "metadata": {},
   "source": [
    "# 0. 라이브러리 불러오기 "
   ]
  },
  {
   "cell_type": "code",
   "execution_count": 2,
   "id": "740500c4-4110-45c8-9dd6-48b48fe6889e",
   "metadata": {},
   "outputs": [],
   "source": [
    "# PySpark 및 Spark 세션\n",
    "from pyspark.sql import SparkSession\n",
    "from pyspark.sql.functions import col, when, isnan, count\n",
    "from pyspark.sql.types import IntegerType, FloatType, StringType\n",
    "from pyspark.sql import functions as F\n",
    "from pyspark.sql.functions import col\n",
    "from pyspark.sql.functions import rand\n",
    "# 데이터 처리\n",
    "import pandas as pd   \n",
    "import numpy as np    \n",
    "\n",
    "# 시각화 \n",
    "import matplotlib.pyplot as plt\n",
    "import seaborn as sns\n",
    "\n",
    "# PySpark MLlib \n",
    "from pyspark.ml import Pipeline\n",
    "from pyspark.ml.feature import VectorAssembler, StringIndexer, StandardScaler, OneHotEncoder\n",
    "from pyspark.ml.classification import LogisticRegression, RandomForestClassifier, DecisionTreeClassifier\n",
    "from pyspark.ml.evaluation import BinaryClassificationEvaluator, MulticlassClassificationEvaluator\n",
    "from pyspark.ml.tuning import CrossValidator, ParamGridBuilder\n"
   ]
  },
  {
   "cell_type": "markdown",
   "id": "0535aff2-a019-4e1c-a115-2d12200a2031",
   "metadata": {},
   "source": [
    "# 1. 데이터 불러오기"
   ]
  },
  {
   "cell_type": "code",
   "execution_count": 3,
   "id": "7db12e91-64b8-49e8-85b2-94d7e6d54c33",
   "metadata": {},
   "outputs": [],
   "source": [
    "df = spark.read.csv('file:////home/jovyan/work/practice_virtual-environment/Heart_disease/heart_disease_uci.csv'\n",
    "    , inferSchema=True, header=True)"
   ]
  },
  {
   "cell_type": "code",
   "execution_count": 4,
   "id": "8dd0c9e3-7be8-4d5d-9dc0-c41fc1862f4a",
   "metadata": {},
   "outputs": [
    {
     "data": {
      "text/html": [
       "<div>\n",
       "<style scoped>\n",
       "    .dataframe tbody tr th:only-of-type {\n",
       "        vertical-align: middle;\n",
       "    }\n",
       "\n",
       "    .dataframe tbody tr th {\n",
       "        vertical-align: top;\n",
       "    }\n",
       "\n",
       "    .dataframe thead th {\n",
       "        text-align: right;\n",
       "    }\n",
       "</style>\n",
       "<table border=\"1\" class=\"dataframe\">\n",
       "  <thead>\n",
       "    <tr style=\"text-align: right;\">\n",
       "      <th></th>\n",
       "      <th>id</th>\n",
       "      <th>age</th>\n",
       "      <th>sex</th>\n",
       "      <th>dataset</th>\n",
       "      <th>cp</th>\n",
       "      <th>trestbps</th>\n",
       "      <th>chol</th>\n",
       "      <th>fbs</th>\n",
       "      <th>restecg</th>\n",
       "      <th>thalch</th>\n",
       "      <th>exang</th>\n",
       "      <th>oldpeak</th>\n",
       "      <th>slope</th>\n",
       "      <th>ca</th>\n",
       "      <th>thal</th>\n",
       "      <th>num</th>\n",
       "    </tr>\n",
       "  </thead>\n",
       "  <tbody>\n",
       "    <tr>\n",
       "      <th>0</th>\n",
       "      <td>1</td>\n",
       "      <td>63</td>\n",
       "      <td>Male</td>\n",
       "      <td>Cleveland</td>\n",
       "      <td>typical angina</td>\n",
       "      <td>145.0</td>\n",
       "      <td>233.0</td>\n",
       "      <td>True</td>\n",
       "      <td>lv hypertrophy</td>\n",
       "      <td>150.0</td>\n",
       "      <td>False</td>\n",
       "      <td>2.3</td>\n",
       "      <td>downsloping</td>\n",
       "      <td>0.0</td>\n",
       "      <td>fixed defect</td>\n",
       "      <td>0</td>\n",
       "    </tr>\n",
       "    <tr>\n",
       "      <th>1</th>\n",
       "      <td>2</td>\n",
       "      <td>67</td>\n",
       "      <td>Male</td>\n",
       "      <td>Cleveland</td>\n",
       "      <td>asymptomatic</td>\n",
       "      <td>160.0</td>\n",
       "      <td>286.0</td>\n",
       "      <td>False</td>\n",
       "      <td>lv hypertrophy</td>\n",
       "      <td>108.0</td>\n",
       "      <td>True</td>\n",
       "      <td>1.5</td>\n",
       "      <td>flat</td>\n",
       "      <td>3.0</td>\n",
       "      <td>normal</td>\n",
       "      <td>2</td>\n",
       "    </tr>\n",
       "    <tr>\n",
       "      <th>2</th>\n",
       "      <td>3</td>\n",
       "      <td>67</td>\n",
       "      <td>Male</td>\n",
       "      <td>Cleveland</td>\n",
       "      <td>asymptomatic</td>\n",
       "      <td>120.0</td>\n",
       "      <td>229.0</td>\n",
       "      <td>False</td>\n",
       "      <td>lv hypertrophy</td>\n",
       "      <td>129.0</td>\n",
       "      <td>True</td>\n",
       "      <td>2.6</td>\n",
       "      <td>flat</td>\n",
       "      <td>2.0</td>\n",
       "      <td>reversable defect</td>\n",
       "      <td>1</td>\n",
       "    </tr>\n",
       "    <tr>\n",
       "      <th>3</th>\n",
       "      <td>4</td>\n",
       "      <td>37</td>\n",
       "      <td>Male</td>\n",
       "      <td>Cleveland</td>\n",
       "      <td>non-anginal</td>\n",
       "      <td>130.0</td>\n",
       "      <td>250.0</td>\n",
       "      <td>False</td>\n",
       "      <td>normal</td>\n",
       "      <td>187.0</td>\n",
       "      <td>False</td>\n",
       "      <td>3.5</td>\n",
       "      <td>downsloping</td>\n",
       "      <td>0.0</td>\n",
       "      <td>normal</td>\n",
       "      <td>0</td>\n",
       "    </tr>\n",
       "    <tr>\n",
       "      <th>4</th>\n",
       "      <td>5</td>\n",
       "      <td>41</td>\n",
       "      <td>Female</td>\n",
       "      <td>Cleveland</td>\n",
       "      <td>atypical angina</td>\n",
       "      <td>130.0</td>\n",
       "      <td>204.0</td>\n",
       "      <td>False</td>\n",
       "      <td>lv hypertrophy</td>\n",
       "      <td>172.0</td>\n",
       "      <td>False</td>\n",
       "      <td>1.4</td>\n",
       "      <td>upsloping</td>\n",
       "      <td>0.0</td>\n",
       "      <td>normal</td>\n",
       "      <td>0</td>\n",
       "    </tr>\n",
       "    <tr>\n",
       "      <th>...</th>\n",
       "      <td>...</td>\n",
       "      <td>...</td>\n",
       "      <td>...</td>\n",
       "      <td>...</td>\n",
       "      <td>...</td>\n",
       "      <td>...</td>\n",
       "      <td>...</td>\n",
       "      <td>...</td>\n",
       "      <td>...</td>\n",
       "      <td>...</td>\n",
       "      <td>...</td>\n",
       "      <td>...</td>\n",
       "      <td>...</td>\n",
       "      <td>...</td>\n",
       "      <td>...</td>\n",
       "      <td>...</td>\n",
       "    </tr>\n",
       "    <tr>\n",
       "      <th>915</th>\n",
       "      <td>916</td>\n",
       "      <td>54</td>\n",
       "      <td>Female</td>\n",
       "      <td>VA Long Beach</td>\n",
       "      <td>asymptomatic</td>\n",
       "      <td>127.0</td>\n",
       "      <td>333.0</td>\n",
       "      <td>True</td>\n",
       "      <td>st-t abnormality</td>\n",
       "      <td>154.0</td>\n",
       "      <td>False</td>\n",
       "      <td>0.0</td>\n",
       "      <td>None</td>\n",
       "      <td>NaN</td>\n",
       "      <td>None</td>\n",
       "      <td>1</td>\n",
       "    </tr>\n",
       "    <tr>\n",
       "      <th>916</th>\n",
       "      <td>917</td>\n",
       "      <td>62</td>\n",
       "      <td>Male</td>\n",
       "      <td>VA Long Beach</td>\n",
       "      <td>typical angina</td>\n",
       "      <td>NaN</td>\n",
       "      <td>139.0</td>\n",
       "      <td>False</td>\n",
       "      <td>st-t abnormality</td>\n",
       "      <td>NaN</td>\n",
       "      <td>None</td>\n",
       "      <td>NaN</td>\n",
       "      <td>None</td>\n",
       "      <td>NaN</td>\n",
       "      <td>None</td>\n",
       "      <td>0</td>\n",
       "    </tr>\n",
       "    <tr>\n",
       "      <th>917</th>\n",
       "      <td>918</td>\n",
       "      <td>55</td>\n",
       "      <td>Male</td>\n",
       "      <td>VA Long Beach</td>\n",
       "      <td>asymptomatic</td>\n",
       "      <td>122.0</td>\n",
       "      <td>223.0</td>\n",
       "      <td>True</td>\n",
       "      <td>st-t abnormality</td>\n",
       "      <td>100.0</td>\n",
       "      <td>False</td>\n",
       "      <td>0.0</td>\n",
       "      <td>None</td>\n",
       "      <td>NaN</td>\n",
       "      <td>fixed defect</td>\n",
       "      <td>2</td>\n",
       "    </tr>\n",
       "    <tr>\n",
       "      <th>918</th>\n",
       "      <td>919</td>\n",
       "      <td>58</td>\n",
       "      <td>Male</td>\n",
       "      <td>VA Long Beach</td>\n",
       "      <td>asymptomatic</td>\n",
       "      <td>NaN</td>\n",
       "      <td>385.0</td>\n",
       "      <td>True</td>\n",
       "      <td>lv hypertrophy</td>\n",
       "      <td>NaN</td>\n",
       "      <td>None</td>\n",
       "      <td>NaN</td>\n",
       "      <td>None</td>\n",
       "      <td>NaN</td>\n",
       "      <td>None</td>\n",
       "      <td>0</td>\n",
       "    </tr>\n",
       "    <tr>\n",
       "      <th>919</th>\n",
       "      <td>920</td>\n",
       "      <td>62</td>\n",
       "      <td>Male</td>\n",
       "      <td>VA Long Beach</td>\n",
       "      <td>atypical angina</td>\n",
       "      <td>120.0</td>\n",
       "      <td>254.0</td>\n",
       "      <td>False</td>\n",
       "      <td>lv hypertrophy</td>\n",
       "      <td>93.0</td>\n",
       "      <td>True</td>\n",
       "      <td>0.0</td>\n",
       "      <td>None</td>\n",
       "      <td>NaN</td>\n",
       "      <td>None</td>\n",
       "      <td>1</td>\n",
       "    </tr>\n",
       "  </tbody>\n",
       "</table>\n",
       "<p>920 rows × 16 columns</p>\n",
       "</div>"
      ],
      "text/plain": [
       "      id  age     sex        dataset               cp  trestbps   chol    fbs  \\\n",
       "0      1   63    Male      Cleveland   typical angina     145.0  233.0   True   \n",
       "1      2   67    Male      Cleveland     asymptomatic     160.0  286.0  False   \n",
       "2      3   67    Male      Cleveland     asymptomatic     120.0  229.0  False   \n",
       "3      4   37    Male      Cleveland      non-anginal     130.0  250.0  False   \n",
       "4      5   41  Female      Cleveland  atypical angina     130.0  204.0  False   \n",
       "..   ...  ...     ...            ...              ...       ...    ...    ...   \n",
       "915  916   54  Female  VA Long Beach     asymptomatic     127.0  333.0   True   \n",
       "916  917   62    Male  VA Long Beach   typical angina       NaN  139.0  False   \n",
       "917  918   55    Male  VA Long Beach     asymptomatic     122.0  223.0   True   \n",
       "918  919   58    Male  VA Long Beach     asymptomatic       NaN  385.0   True   \n",
       "919  920   62    Male  VA Long Beach  atypical angina     120.0  254.0  False   \n",
       "\n",
       "              restecg  thalch  exang  oldpeak        slope   ca  \\\n",
       "0      lv hypertrophy   150.0  False      2.3  downsloping  0.0   \n",
       "1      lv hypertrophy   108.0   True      1.5         flat  3.0   \n",
       "2      lv hypertrophy   129.0   True      2.6         flat  2.0   \n",
       "3              normal   187.0  False      3.5  downsloping  0.0   \n",
       "4      lv hypertrophy   172.0  False      1.4    upsloping  0.0   \n",
       "..                ...     ...    ...      ...          ...  ...   \n",
       "915  st-t abnormality   154.0  False      0.0         None  NaN   \n",
       "916  st-t abnormality     NaN   None      NaN         None  NaN   \n",
       "917  st-t abnormality   100.0  False      0.0         None  NaN   \n",
       "918    lv hypertrophy     NaN   None      NaN         None  NaN   \n",
       "919    lv hypertrophy    93.0   True      0.0         None  NaN   \n",
       "\n",
       "                  thal  num  \n",
       "0         fixed defect    0  \n",
       "1               normal    2  \n",
       "2    reversable defect    1  \n",
       "3               normal    0  \n",
       "4               normal    0  \n",
       "..                 ...  ...  \n",
       "915               None    1  \n",
       "916               None    0  \n",
       "917       fixed defect    2  \n",
       "918               None    0  \n",
       "919               None    1  \n",
       "\n",
       "[920 rows x 16 columns]"
      ]
     },
     "execution_count": 4,
     "metadata": {},
     "output_type": "execute_result"
    }
   ],
   "source": [
    "df.toPandas()"
   ]
  },
  {
   "cell_type": "markdown",
   "id": "2524e46d-d11c-46d7-83e4-0023cc897d48",
   "metadata": {},
   "source": [
    "열 설명 <br>\n",
    "id : (환자마다 고유 ID)<br>\n",
    "age : (환자의 나이)<br>\n",
    "sex : (남자/여자)<br>\n",
    "cp : 흉통 유형([전형적 협심증, 비정형 협심증, 비협심증, 무증상])<br>\n",
    "trestbps : 안정시 혈압(입원 시 안정시 혈압(mmHg))<br>\n",
    "chol : (혈청 콜레스테롤 mg/dl)<br>\n",
    "fbs : (공복혈당 > 120 mg/dl인 경우)<br>\n",
    "restecg : (휴식기 심전도 결과)-- 값: [정상, 정상 이상, 좌심실 비대]<br>\n",
    "thalach: 최대 심박수 달성<br>\n",
    "exang: 운동 유발 협심증 (참/거짓)<br>\n",
    "oldpeak: 휴식에 비해 운동으로 인한 ST 저하<br>\n",
    "slope: 최대 운동 ST 분절의 기울기<br>\n",
    "ca: 투시를 통해 채색된 주요 혈관 수(0-3)<br>\n",
    "thal: [정상; 고정 결함; 가역 결함]<br>\n",
    "num: 타겟"
   ]
  },
  {
   "cell_type": "markdown",
   "id": "05cea5d4-bc9b-468f-8b40-a5899150015d",
   "metadata": {},
   "source": [
    "# 2. 데이터 EDA & 전처리"
   ]
  },
  {
   "cell_type": "code",
   "execution_count": 5,
   "id": "82cc4fab-8fb4-4e3a-8057-809c4f5254fb",
   "metadata": {},
   "outputs": [],
   "source": [
    "# 불필요한 데이터인 id, dataset제거 \n",
    "df = df.drop('id','dataset') "
   ]
  },
  {
   "cell_type": "code",
   "execution_count": 6,
   "id": "adb1f55b-eb73-4bf4-943e-6c6e9f8b2d38",
   "metadata": {},
   "outputs": [
    {
     "name": "stdout",
     "output_type": "stream",
     "text": [
      "age           0\n",
      "sex           0\n",
      "cp            0\n",
      "trestbps     59\n",
      "chol         30\n",
      "fbs          90\n",
      "restecg       2\n",
      "thalch       55\n",
      "exang        55\n",
      "oldpeak      62\n",
      "slope       309\n",
      "ca          611\n",
      "thal        486\n",
      "num           0\n",
      "dtype: int64\n"
     ]
    }
   ],
   "source": [
    "# 결측치 확인(데이터의 양이 너무 크지 않기에 판다스로 변환해서 결측치 확인)\n",
    "Hc_pd = df.toPandas()\n",
    "print(Hc_pd.isnull().sum())"
   ]
  },
  {
   "cell_type": "markdown",
   "id": "36fce3ba-7574-45b6-b50e-b406bdda9556",
   "metadata": {},
   "source": [
    "thal, ca, slope는 920row중 30%이상의 결측치 확인, <br>\n",
    "drop을 통해 제거 "
   ]
  },
  {
   "cell_type": "code",
   "execution_count": 7,
   "id": "9f3dcb06-9c48-4eaa-85a7-19f7e61e86be",
   "metadata": {},
   "outputs": [],
   "source": [
    "df = df.drop('thal','ca','slope') "
   ]
  },
  {
   "cell_type": "code",
   "execution_count": 8,
   "id": "283ee44a-4ef4-4756-beff-5a8e8dac2cf3",
   "metadata": {},
   "outputs": [
    {
     "name": "stdout",
     "output_type": "stream",
     "text": [
      "age          0\n",
      "sex          0\n",
      "cp           0\n",
      "trestbps    59\n",
      "chol        30\n",
      "fbs         90\n",
      "restecg      2\n",
      "thalch      55\n",
      "exang       55\n",
      "oldpeak     62\n",
      "num          0\n",
      "dtype: int64\n"
     ]
    }
   ],
   "source": [
    "Hc_pd1 = df.toPandas()\n",
    "print(Hc_pd1.isnull().sum())"
   ]
  },
  {
   "cell_type": "markdown",
   "id": "928935fc-352a-436d-8e4e-b3583ec7e16c",
   "metadata": {},
   "source": [
    "남은 결측치 보유 컬럼 : trestbps, chol, fbs, restecg, thalch, exang, oldpeak<br>\n",
    "문자열 데이터 : fbs, restecg, exang"
   ]
  },
  {
   "cell_type": "code",
   "execution_count": 9,
   "id": "1dc799a1-d075-4fd0-a23d-74b28f335bff",
   "metadata": {},
   "outputs": [
    {
     "data": {
      "image/png": "[encoded data removed]",
      "text/plain": [
       "<Figure size 1200x1000 with 4 Axes>"
      ]
     },
     "metadata": {},
     "output_type": "display_data"
    }
   ],
   "source": [
    "trestbps_data = Hc_pd1['trestbps'].dropna().values\n",
    "chol_data     = Hc_pd1['chol'].dropna().values\n",
    "oldpeak_data  = Hc_pd1['oldpeak'].dropna().values\n",
    "thalch_data   = Hc_pd1['thalch'].dropna().values\n",
    "\n",
    "fig, axes = plt.subplots(nrows=2, ncols=2, figsize=(12, 10))\n",
    "\n",
    "# trestbps\n",
    "axes[0, 0].boxplot(trestbps_data, patch_artist=True,\n",
    "                   boxprops=dict(facecolor='#32a852', color='blue', linewidth=2),\n",
    "                   medianprops=dict(color='white'))\n",
    "axes[0, 0].set_title('Trestbps Boxplot', fontsize=13)\n",
    "axes[0, 0].set_ylabel('Trestbps', fontsize=12)\n",
    "axes[0, 0].set_xticklabels(['Trestbps'])\n",
    "\n",
    "# chol\n",
    "axes[0, 1].boxplot(chol_data, patch_artist=True,\n",
    "                   boxprops=dict(facecolor='#8e59d9', color='blue', linewidth=2),\n",
    "                   medianprops=dict(color='white'))\n",
    "axes[0, 1].set_title('Chol Boxplot', fontsize=13)\n",
    "axes[0, 1].set_ylabel('Chol', fontsize=12)\n",
    "axes[0, 1].set_xticklabels(['Chol'])\n",
    "\n",
    "# oldpeak\n",
    "axes[1, 0].boxplot(oldpeak_data, patch_artist=True,\n",
    "                   boxprops=dict(facecolor='#ffa500', color='blue', linewidth=2),\n",
    "                   medianprops=dict(color='white'))\n",
    "axes[1, 0].set_title('Oldpeak Boxplot', fontsize=13)\n",
    "axes[1, 0].set_ylabel('Oldpeak', fontsize=12)\n",
    "axes[1, 0].set_xticklabels(['Oldpeak'])\n",
    "\n",
    "# thalch\n",
    "axes[1, 1].boxplot(thalch_data, patch_artist=True,\n",
    "                   boxprops=dict(facecolor='#ff6347', color='blue', linewidth=2),\n",
    "                   medianprops=dict(color='white'))\n",
    "axes[1, 1].set_title('Thalch Boxplot', fontsize=13)\n",
    "axes[1, 1].set_ylabel('Thalch', fontsize=12)\n",
    "axes[1, 1].set_xticklabels(['Thalch'])\n",
    "\n",
    "fig.suptitle('Outlier Detection', fontsize=14)\n",
    "fig.set_facecolor('white')\n",
    "plt.tight_layout(rect=[0, 0, 1, 0.96])\n",
    "plt.show()"
   ]
  },
  {
   "cell_type": "markdown",
   "id": "639ad10d-df38-4e76-bdc1-ecb38725df79",
   "metadata": {},
   "source": [
    "박스플롯을 통해 수치형 변수들의 이상치, 평균등을 확인,<br>\n",
    "이상치가 많다고 관측되었지만 의학적인 관점에선 이상치라 판단하긴 어려움<br>\n",
    "혈압trestbps같은 경우 고혈압 환자인 경우를 감안하면 이상치라 판단 어려움<br>\n",
    "콜레스테롤chol같은 경우 당뇨 환자인 경우를 감안하면 이상치라 판단 어려움<br>\n",
    "최대심박수thalch같은 경우 운동 후, 나이등을 감안하면 이상치라 판단 어려움<br>\n",
    "운동 후 ST저하로 oldpeak같은 경우에도 심질환 환자임을 감안하면 이상치라 판단 어려움"
   ]
  },
  {
   "cell_type": "code",
   "execution_count": 10,
   "id": "21522527-5f1c-48b2-a185-27ae9a796c39",
   "metadata": {},
   "outputs": [
    {
     "data": {
      "image/png": "[encoded data removed]",
      "text/plain": [
       "<Figure size 800x600 with 2 Axes>"
      ]
     },
     "metadata": {},
     "output_type": "display_data"
    }
   ],
   "source": [
    "# 상관분석 대상 칼럼\n",
    "cols = ['trestbps', 'chol', 'oldpeak', 'thalch']\n",
    "corr_df = Hc_pd1[cols]\n",
    "\n",
    "# 상관관계 분석\n",
    "corr_matrix = corr_df.corr()\n",
    "\n",
    "# 히트맵 \n",
    "plt.figure(figsize=(8, 6))\n",
    "sns.heatmap(corr_matrix, annot=True, fmt='.2f', cmap='coolwarm', linewidths=2, cbar=True,\n",
    "            annot_kws={'size':13})\n",
    "plt.title('Correlation Heatmap of Selected Features', fontsize=15)\n",
    "plt.xticks(fontsize=12)\n",
    "plt.yticks(fontsize=12)\n",
    "plt.tight_layout()\n",
    "plt.show()\n"
   ]
  },
  {
   "cell_type": "markdown",
   "id": "2900fee4-2240-453f-bca7-03daefe66cb6",
   "metadata": {},
   "source": [
    "4가지 변수 다 심장질환과의 연관되어 있어 히트맵을 통해 상관계수를 구해 상관계수가 높은것에 한해,<br>\n",
    "KNN기법을 사용해 결측치를 처리하려 했지만 서로 상관관계가 매우 미미하다고 나와 KNN기법이아닌,<br>1\n",
    "중앙값을 이용해 결측치 처리"
   ]
  },
  {
   "cell_type": "code",
   "execution_count": 11,
   "id": "cdddfae0-3c97-40ef-8611-21b39646b40a",
   "metadata": {},
   "outputs": [],
   "source": [
    "# 4가지 변수 전처리 \n",
    "num_cols = ['trestbps', 'chol', 'thalch', 'oldpeak']\n",
    "\n",
    "for col in num_cols:\n",
    "    median_val = df.approxQuantile(col, [0.5], 0.01)[0]\n",
    "    df = df.fillna({col: median_val})"
   ]
  },
  {
   "cell_type": "code",
   "execution_count": 12,
   "id": "73bc5aa9-33ad-4e6a-94fa-aad7a9607e24",
   "metadata": {},
   "outputs": [
    {
     "name": "stdout",
     "output_type": "stream",
     "text": [
      "age          0\n",
      "sex          0\n",
      "cp           0\n",
      "trestbps     0\n",
      "chol         0\n",
      "fbs         90\n",
      "restecg      2\n",
      "thalch       0\n",
      "exang       55\n",
      "oldpeak      0\n",
      "num          0\n",
      "dtype: int64\n"
     ]
    }
   ],
   "source": [
    "Hc_pd2 = df.toPandas()\n",
    "print(Hc_pd2.isnull().sum())"
   ]
  },
  {
   "cell_type": "markdown",
   "id": "116cf220-69b6-452d-a867-5c935406b529",
   "metadata": {},
   "source": [
    "남은 결측치인 fbs, restecg, exang같은 경우 문자열 데이터이기에 가장 흔히 쓰인는 최빈값으로 대체"
   ]
  },
  {
   "cell_type": "code",
   "execution_count": 13,
   "id": "1e06951f-e45b-4874-a7f7-850f351e11d9",
   "metadata": {},
   "outputs": [],
   "source": [
    "# 문자열 데이터 3가지 결측치 처리\n",
    "for s_col in ['exang', 'fbs', 'restecg']:\n",
    "    mode_val = df.groupBy(s_col).count().orderBy('count', ascending=False).first()[0]\n",
    "    df = df.fillna({s_col: mode_val})"
   ]
  },
  {
   "cell_type": "code",
   "execution_count": 14,
   "id": "0df4ed44-5528-4968-b7ff-047c29858107",
   "metadata": {},
   "outputs": [
    {
     "name": "stdout",
     "output_type": "stream",
     "text": [
      "age         0\n",
      "sex         0\n",
      "cp          0\n",
      "trestbps    0\n",
      "chol        0\n",
      "fbs         0\n",
      "restecg     0\n",
      "thalch      0\n",
      "exang       0\n",
      "oldpeak     0\n",
      "num         0\n",
      "dtype: int64\n"
     ]
    }
   ],
   "source": [
    "Hc_pd3 = df.toPandas()\n",
    "print(Hc_pd3.isnull().sum())"
   ]
  },
  {
   "cell_type": "markdown",
   "id": "787c496d-e75a-4f5d-b119-649cb4dc1f7b",
   "metadata": {},
   "source": [
    "age, sex, cp, num 이상치 확인 (결측치가 없어 이상치 확인을 안한 데이터들) \n",
    "하지만 sex, cp는 문자열 데이터 num과 같은 경우 타겟 변수로 0,1,2,3,4로만 구성 "
   ]
  },
  {
   "cell_type": "code",
   "execution_count": 15,
   "id": "f85f0e5b-3208-4506-9b20-2626b1b94dba",
   "metadata": {},
   "outputs": [
    {
     "data": {
      "image/png": "[encoded data removed]",
      "text/plain": [
       "<Figure size 800x800 with 1 Axes>"
      ]
     },
     "metadata": {},
     "output_type": "display_data"
    }
   ],
   "source": [
    "age_data = Hc_pd3['age'].dropna().values \n",
    "\n",
    "edgecolor = 'blue'        \n",
    "linewidth = 2             \n",
    "facecolors = ['#32a852']    \n",
    "medianlinecolor = 'white'  \n",
    "\n",
    "fig = plt.figure(figsize=(8, 8))           \n",
    "fig.set_facecolor('white')                   \n",
    "\n",
    "box = plt.boxplot([age_data], patch_artist=True)\n",
    "\n",
    "for item in ['boxes', 'fliers', 'medians']:\n",
    "    for i, v in enumerate(box[item]):\n",
    "        if item == 'boxes':\n",
    "            plt.setp(v, facecolor=facecolors[i], edgecolor=edgecolor)\n",
    "        elif item == 'fliers':\n",
    "            plt.setp(v, markerfacecolor=facecolors[i])\n",
    "        else:\n",
    "            plt.setp(v, color=medianlinecolor)\n",
    "\n",
    "for item in ['whiskers', 'caps']:\n",
    "    for i, v in enumerate(zip(box[item][::2], box[item][1::2])):\n",
    "        if item == 'whiskers':\n",
    "            plt.setp(v, color=edgecolor, linewidth=linewidth, linestyle='--')\n",
    "        else:\n",
    "            plt.setp(v, color=edgecolor, linewidth=linewidth)\n",
    "\n",
    "plt.xticks([1], ['Age'], fontsize=13)      \n",
    "plt.title('Age Box Plot', fontsize=13)    \n",
    "\n",
    "plt.show()"
   ]
  },
  {
   "cell_type": "markdown",
   "id": "689e7e17-2811-4425-9736-74747a5364e0",
   "metadata": {},
   "source": [
    "Age에 이상치가 없음을 확인 Age와 결측치를 처리했던 수치형 변수들의 분포도를 EDA를 통해 확인"
   ]
  },
  {
   "cell_type": "code",
   "execution_count": 16,
   "id": "5ec5bda0-0a9f-4f5a-9ac1-9a0a7c070f68",
   "metadata": {},
   "outputs": [
    {
     "data": {
      "image/png": "[encoded data removed]",
      "text/plain": [
       "<Figure size 1600x1200 with 5 Axes>"
      ]
     },
     "metadata": {},
     "output_type": "display_data"
    }
   ],
   "source": [
    "num_cols = ['age', 'trestbps', 'chol', 'thalch', 'oldpeak']\n",
    "data_list = [Hc_pd3[col].dropna().values for col in num_cols]\n",
    "\n",
    "fig, axes = plt.subplots(nrows=3, ncols=2, figsize=(16, 12))\n",
    "\n",
    "for i, (col, data) in enumerate(zip(num_cols, data_list)):\n",
    "    row, col_idx = divmod(i, 2)\n",
    "    axes[row, col_idx].hist(data, color='#32a852', edgecolor='blue', alpha=0.85, bins=30)\n",
    "    axes[row, col_idx].set_title(f'{col} Distribution', fontsize=13)\n",
    "    axes[row, col_idx].set_xlabel(col, fontsize=11)\n",
    "    axes[row, col_idx].set_ylabel('Count', fontsize=11)\n",
    "\n",
    "fig.delaxes(axes[2, 1])\n",
    "\n",
    "fig.suptitle('Numerical Features', fontsize=16)\n",
    "fig.set_facecolor('white')\n",
    "plt.tight_layout(rect=[0, 0, 1, 0.96])\n",
    "plt.show()"
   ]
  },
  {
   "cell_type": "markdown",
   "id": "830d8327-c7da-4b17-88ac-781f0dcebd05",
   "metadata": {},
   "source": [
    "5가지의 수치형 변수들의 분포를 히스토그램으로 확인해본 결과 oldpeak을 제외하고 전부 정상이라고 판단<br>\n",
    "하지만 의료데이터임을 감안, 또한 극단적 이상값 또는 왜곡된 값이 없다고 판단해 5가지 변수 전부 변환 없이 진행"
   ]
  },
  {
   "cell_type": "code",
   "execution_count": 17,
   "id": "cee89217-c3cf-41da-949e-0577753fe62d",
   "metadata": {},
   "outputs": [
    {
     "name": "stdout",
     "output_type": "stream",
     "text": [
      "+---+----+--------------+--------+----+-----+--------------+------+-----+-------+---+\n",
      "|age| sex|            cp|trestbps|chol|  fbs|       restecg|thalch|exang|oldpeak|num|\n",
      "+---+----+--------------+--------+----+-----+--------------+------+-----+-------+---+\n",
      "| 63|Male|typical angina|     145| 233| true|lv hypertrophy|   150|false|    2.3|  0|\n",
      "| 67|Male|  asymptomatic|     160| 286|false|lv hypertrophy|   108| true|    1.5|  2|\n",
      "| 67|Male|  asymptomatic|     120| 229|false|lv hypertrophy|   129| true|    2.6|  1|\n",
      "+---+----+--------------+--------+----+-----+--------------+------+-----+-------+---+\n",
      "only showing top 3 rows\n",
      "\n"
     ]
    }
   ],
   "source": [
    "df.show(3)"
   ]
  },
  {
   "cell_type": "code",
   "execution_count": 18,
   "id": "1c4186ef-3f7b-4144-a8df-d46cb2a18d6e",
   "metadata": {},
   "outputs": [
    {
     "data": {
      "text/plain": [
       "cp\n",
       "asymptomatic       496\n",
       "non-anginal        204\n",
       "atypical angina    174\n",
       "typical angina      46\n",
       "Name: count, dtype: int64"
      ]
     },
     "execution_count": 18,
     "metadata": {},
     "output_type": "execute_result"
    }
   ],
   "source": [
    "Hc_pd3['cp'].value_counts(dropna=False)"
   ]
  },
  {
   "cell_type": "code",
   "execution_count": 19,
   "id": "a1b222a2-0c5f-4719-a049-0d7545710a07",
   "metadata": {},
   "outputs": [
    {
     "data": {
      "text/plain": [
       "fbs\n",
       "False    782\n",
       "True     138\n",
       "Name: count, dtype: int64"
      ]
     },
     "execution_count": 19,
     "metadata": {},
     "output_type": "execute_result"
    }
   ],
   "source": [
    "Hc_pd3['fbs'].value_counts(dropna=False)"
   ]
  },
  {
   "cell_type": "code",
   "execution_count": 20,
   "id": "6aeb8be1-d7aa-4eeb-88f0-dc4d85a4e733",
   "metadata": {},
   "outputs": [
    {
     "data": {
      "text/plain": [
       "restecg\n",
       "normal              553\n",
       "lv hypertrophy      188\n",
       "st-t abnormality    179\n",
       "Name: count, dtype: int64"
      ]
     },
     "execution_count": 20,
     "metadata": {},
     "output_type": "execute_result"
    }
   ],
   "source": [
    "Hc_pd3['restecg'].value_counts(dropna=False)"
   ]
  },
  {
   "cell_type": "code",
   "execution_count": 21,
   "id": "19307376-8360-41fb-9c31-60ae593b91c9",
   "metadata": {},
   "outputs": [
    {
     "data": {
      "text/plain": [
       "exang\n",
       "False    583\n",
       "True     337\n",
       "Name: count, dtype: int64"
      ]
     },
     "execution_count": 21,
     "metadata": {},
     "output_type": "execute_result"
    }
   ],
   "source": [
    "Hc_pd3['exang'].value_counts(dropna=False)"
   ]
  },
  {
   "cell_type": "markdown",
   "id": "762f100f-5792-4943-88c3-c394d2de9600",
   "metadata": {},
   "source": [
    "exang, fbs의 경우 단순 True, False임으로 원 - 핫 인코딩을 진행 <br>\n",
    "restecg의 경우 심전도 결과로 정상, 정상 이상, 좌심실 비대으로 각각 가중치를 부여해 수치형 변환<br>\n",
    "cp의 경우 무증상과 기타 심질환으로 분류하여 이진 변수 생성"
   ]
  },
  {
   "cell_type": "code",
   "execution_count": 24,
   "id": "27e2c194-68e8-4229-a6bc-5408c9f74ff2",
   "metadata": {},
   "outputs": [],
   "source": [
    "from pyspark.sql.functions import col #(자꾸 오류가 발생해 셀 자체에 추가)\n",
    "df = df.withColumn('exang', col('exang').cast('int'))\n",
    "df = df.withColumn('fbs', col('fbs').cast('int'))\n",
    "\n",
    "# 원 - 핫 인코딩 \n",
    "indexers = [StringIndexer(inputCol=col, outputCol=col + \"_idx\", handleInvalid=\"keep\") for col in ['exang', 'fbs']]\n",
    "encoder = OneHotEncoder(inputCols=['exang_idx', 'fbs_idx'],\n",
    "                        outputCols=['exang_oh', 'fbs_oh'])\n",
    "\n",
    "pipeline = Pipeline(stages=indexers + [encoder])\n",
    "model = pipeline.fit(df)\n",
    "df = model.transform(df)"
   ]
  },
  {
   "cell_type": "code",
   "execution_count": 25,
   "id": "87a7f68b-b26f-40aa-9d95-7542206e8bbe",
   "metadata": {},
   "outputs": [],
   "source": [
    "# 가중치 처리 \n",
    "df = df.withColumn(\n",
    "    \"restecg_score\",\n",
    "    when(col(\"restecg\") == \"normal\", 0)\n",
    "    .when(col(\"restecg\") == \"lv hypertrophy\", 1)\n",
    "    .when(col(\"restecg\") == \"st-t abnormality\", 2)\n",
    "    .otherwise(None) \n",
    ")"
   ]
  },
  {
   "cell_type": "code",
   "execution_count": 26,
   "id": "7bff08f2-a5c3-4651-8807-7648d307299a",
   "metadata": {},
   "outputs": [],
   "source": [
    "# cp 무증상/ 기타 이진 변수 \n",
    "df = df.withColumn(\n",
    "    \"cp_asymptomatic\",\n",
    "    when(col(\"cp\") == \"asymptomatic\", 1).otherwise(0)\n",
    ")"
   ]
  },
  {
   "cell_type": "code",
   "execution_count": 27,
   "id": "b5b10acd-d0c7-4bff-b739-c2f17890d09e",
   "metadata": {},
   "outputs": [
    {
     "name": "stdout",
     "output_type": "stream",
     "text": [
      "root\n",
      " |-- age: integer (nullable = true)\n",
      " |-- sex: string (nullable = true)\n",
      " |-- cp: string (nullable = true)\n",
      " |-- trestbps: integer (nullable = true)\n",
      " |-- chol: integer (nullable = true)\n",
      " |-- fbs: integer (nullable = false)\n",
      " |-- restecg: string (nullable = false)\n",
      " |-- thalch: integer (nullable = true)\n",
      " |-- exang: integer (nullable = false)\n",
      " |-- oldpeak: double (nullable = false)\n",
      " |-- num: integer (nullable = true)\n",
      " |-- exang_idx: double (nullable = false)\n",
      " |-- fbs_idx: double (nullable = false)\n",
      " |-- exang_oh: vector (nullable = true)\n",
      " |-- fbs_oh: vector (nullable = true)\n",
      " |-- restecg_score: integer (nullable = true)\n",
      " |-- cp_asymptomatic: integer (nullable = false)\n",
      "\n"
     ]
    }
   ],
   "source": [
    "df.printSchema()"
   ]
  },
  {
   "cell_type": "code",
   "execution_count": 28,
   "id": "4b1e5ea3-b34c-47fb-952e-2a0c164276dc",
   "metadata": {},
   "outputs": [],
   "source": [
    "# 미처 인코딩 하지 못한 sex컬럼 인코딩 \n",
    "indexer = StringIndexer(inputCol=\"sex\", outputCol=\"sex_index\", handleInvalid=\"keep\")\n",
    "df = indexer.fit(df).transform(df)"
   ]
  },
  {
   "cell_type": "code",
   "execution_count": 29,
   "id": "c4560336-6ad4-4717-9b7f-9f24cb157858",
   "metadata": {},
   "outputs": [
    {
     "name": "stdout",
     "output_type": "stream",
     "text": [
      "root\n",
      " |-- age: integer (nullable = true)\n",
      " |-- sex: string (nullable = true)\n",
      " |-- cp: string (nullable = true)\n",
      " |-- trestbps: integer (nullable = true)\n",
      " |-- chol: integer (nullable = true)\n",
      " |-- fbs: integer (nullable = false)\n",
      " |-- restecg: string (nullable = false)\n",
      " |-- thalch: integer (nullable = true)\n",
      " |-- exang: integer (nullable = false)\n",
      " |-- oldpeak: double (nullable = false)\n",
      " |-- num: integer (nullable = true)\n",
      " |-- exang_idx: double (nullable = false)\n",
      " |-- fbs_idx: double (nullable = false)\n",
      " |-- exang_oh: vector (nullable = true)\n",
      " |-- fbs_oh: vector (nullable = true)\n",
      " |-- restecg_score: integer (nullable = true)\n",
      " |-- cp_asymptomatic: integer (nullable = false)\n",
      " |-- sex_index: double (nullable = false)\n",
      "\n"
     ]
    }
   ],
   "source": [
    "df.printSchema()"
   ]
  },
  {
   "cell_type": "code",
   "execution_count": 30,
   "id": "085e7f71-805d-4d7e-80ec-4b0602906ec6",
   "metadata": {},
   "outputs": [],
   "source": [
    "drop_columns = [\n",
    "    'sex', 'cp', 'fbs', 'restecg', 'exang', 'exang_idx', 'fbs_idx'\n",
    "]\n",
    "df = df.drop(*drop_columns)"
   ]
  },
  {
   "cell_type": "code",
   "execution_count": 31,
   "id": "994fe80d-ae54-4c0b-8baa-cad417815879",
   "metadata": {},
   "outputs": [],
   "source": [
    "# num 이진화 (num값이 4가지로 분류 되어있어 2가지로 축소)\n",
    "df = df.withColumn(\"num_bin\", when(df[\"num\"] == 0, 0).otherwise(1))"
   ]
  },
  {
   "cell_type": "code",
   "execution_count": 32,
   "id": "bc1a8e25-5b3b-4d33-9f73-fbb7bc30df11",
   "metadata": {},
   "outputs": [],
   "source": [
    "# 클래스 불균형 조정 upsampling\n",
    "from pyspark.sql.functions import rand\n",
    "minority = df.filter(df.num_bin == 1)\n",
    "majority = df.filter(df.num_bin == 0)\n",
    "minority_upsampled = minority.sample(withReplacement=True, fraction=2.0, seed=42)\n",
    "df_balanced = majority.union(minority_upsampled)"
   ]
  },
  {
   "cell_type": "code",
   "execution_count": 33,
   "id": "f7f46473-e9c3-4667-a468-20e4fdb16c08",
   "metadata": {},
   "outputs": [],
   "source": [
    "# 데이터 분할\n",
    "train_data, test_data = df.randomSplit([0.8,0.2], seed=42)"
   ]
  },
  {
   "cell_type": "code",
   "execution_count": 34,
   "id": "79c8981d-18b4-49f6-ae47-afef4eb6d1ef",
   "metadata": {},
   "outputs": [],
   "source": [
    "# 백터화\n",
    "feature_cols = [\n",
    "    'age', 'trestbps', 'chol', 'thalch',\n",
    "    'oldpeak', 'restecg_score', 'cp_asymptomatic',\n",
    "    'sex_index', 'fbs_oh', 'exang_oh'\n",
    "]\n",
    "\n",
    "assembler = VectorAssembler(inputCols=feature_cols, outputCol='features')\n",
    "\n",
    "train_data = assembler.transform(train_data)\n",
    "test_data = assembler.transform(test_data)"
   ]
  },
  {
   "cell_type": "code",
   "execution_count": 35,
   "id": "8682cf4e-d01e-42df-ad7a-5d5478962663",
   "metadata": {},
   "outputs": [
    {
     "name": "stdout",
     "output_type": "stream",
     "text": [
      "+--------------------------------------------------------+-------+\n",
      "|features                                                |num_bin|\n",
      "+--------------------------------------------------------+-------+\n",
      "|[28.0,130.0,132.0,185.0,0.0,1.0,0.0,0.0,1.0,0.0,1.0,0.0]|0      |\n",
      "|(12,[0,1,2,3,8,10],[29.0,120.0,243.0,160.0,1.0,1.0])    |0      |\n",
      "|(12,[0,1,2,3,8,10],[29.0,140.0,223.0,170.0,1.0,1.0])    |0      |\n",
      "+--------------------------------------------------------+-------+\n",
      "only showing top 3 rows\n",
      "\n",
      "+--------------------------------------------------------+-------+\n",
      "|features                                                |num_bin|\n",
      "+--------------------------------------------------------+-------+\n",
      "|[29.0,130.0,204.0,202.0,0.0,1.0,0.0,0.0,1.0,0.0,1.0,0.0]|0      |\n",
      "|[31.0,120.0,270.0,153.0,1.5,0.0,1.0,0.0,1.0,0.0,0.0,1.0]|1      |\n",
      "|[32.0,105.0,198.0,165.0,0.0,0.0,0.0,1.0,1.0,0.0,1.0,0.0]|0      |\n",
      "+--------------------------------------------------------+-------+\n",
      "only showing top 3 rows\n",
      "\n"
     ]
    }
   ],
   "source": [
    "train_data.select('features', 'num_bin').show(3, truncate=False)\n",
    "test_data.select('features', 'num_bin').show(3, truncate=False)"
   ]
  },
  {
   "cell_type": "markdown",
   "id": "7098480a-9444-4896-b5a8-60e1a899cd9f",
   "metadata": {},
   "source": [
    "# 3. 모델링"
   ]
  },
  {
   "cell_type": "code",
   "execution_count": 36,
   "id": "af4a1c2b-377e-4466-b3c4-599305e448ac",
   "metadata": {},
   "outputs": [],
   "source": [
    "# RandomForestClassifier모델\n",
    "rf = RandomForestClassifier(featuresCol='features', labelCol='num_bin', predictionCol='prediction')\n",
    "rf_model = rf.fit(train_data)\n",
    "rf_pred = rf_model.transform(test_data)"
   ]
  },
  {
   "cell_type": "code",
   "execution_count": 37,
   "id": "ad16d501-fdd5-4e45-a7f6-e7f83a06c39a",
   "metadata": {},
   "outputs": [
    {
     "name": "stdout",
     "output_type": "stream",
     "text": [
      "prediction : 0.7718\n",
      "F1-score : 0.7718\n",
      "+----------+\n",
      "|prediction|\n",
      "+----------+\n",
      "|       0.0|\n",
      "|       1.0|\n",
      "|       0.0|\n",
      "|       0.0|\n",
      "|       0.0|\n",
      "|       1.0|\n",
      "|       0.0|\n",
      "|       0.0|\n",
      "|       0.0|\n",
      "|       0.0|\n",
      "+----------+\n",
      "only showing top 10 rows\n",
      "\n"
     ]
    }
   ],
   "source": [
    "# 평가자 정의: 정확도·F1-score\n",
    "acc_evaluator = MulticlassClassificationEvaluator(labelCol='num_bin', predictionCol='prediction', metricName='accuracy')\n",
    "f1_evaluator = MulticlassClassificationEvaluator(labelCol='num_bin', predictionCol='prediction', metricName='f1')\n",
    "\n",
    "accuracy = acc_evaluator.evaluate(rf_pred)\n",
    "f1_macro = f1_evaluator.evaluate(rf_pred)\n",
    "\n",
    "# 결과 출력 \n",
    "print(f\"prediction : {accuracy:.4f}\")\n",
    "print(f\"F1-score : {f1_macro:.4f}\")\n",
    "\n",
    "# 예측값 일부 샘플 출력\n",
    "rf_pred.select('prediction').show(10)"
   ]
  },
  {
   "cell_type": "code",
   "execution_count": 38,
   "id": "744d552e-70d1-43fd-8fdb-99725600f74d",
   "metadata": {},
   "outputs": [],
   "source": [
    "# DecisionTreeClassifier 모델\n",
    "dt = DecisionTreeClassifier(featuresCol='features', labelCol='num_bin', predictionCol='prediction')\n",
    "dt_model = dt.fit(train_data)\n",
    "dt_pred = dt_model.transform(test_data)"
   ]
  },
  {
   "cell_type": "code",
   "execution_count": 39,
   "id": "3b2a7e7a-3108-4d53-be91-d0a3e55a3186",
   "metadata": {},
   "outputs": [
    {
     "name": "stdout",
     "output_type": "stream",
     "text": [
      "prediction : 0.7315\n",
      "F1-score : 0.7334\n",
      "+----------+\n",
      "|prediction|\n",
      "+----------+\n",
      "|       0.0|\n",
      "|       1.0|\n",
      "|       0.0|\n",
      "|       0.0|\n",
      "|       0.0|\n",
      "|       1.0|\n",
      "|       0.0|\n",
      "|       0.0|\n",
      "|       0.0|\n",
      "|       0.0|\n",
      "+----------+\n",
      "only showing top 10 rows\n",
      "\n"
     ]
    }
   ],
   "source": [
    "# 평가자 정의: 정확도·F1-score\n",
    "acc_evaluator = MulticlassClassificationEvaluator(labelCol='num_bin', predictionCol='prediction', metricName='accuracy')\n",
    "f1_evaluator = MulticlassClassificationEvaluator(labelCol='num_bin', predictionCol='prediction', metricName='f1')\n",
    "\n",
    "accuracy = acc_evaluator.evaluate(dt_pred)\n",
    "f1_macro = f1_evaluator.evaluate(dt_pred)\n",
    "\n",
    "# 결과 출력 \n",
    "print(f\"prediction : {accuracy:.4f}\")\n",
    "print(f\"F1-score : {f1_macro:.4f}\")\n",
    "\n",
    "# 예측값 일부 샘플 출력\n",
    "rf_pred.select('prediction').show(10)"
   ]
  },
  {
   "cell_type": "code",
   "execution_count": 40,
   "id": "9b5bb16a-a075-431d-b40c-99555179cba1",
   "metadata": {},
   "outputs": [],
   "source": [
    "# 로지스틱을 회귀 모델 사용을 위한 스케일링\n",
    "scaler = StandardScaler(\n",
    "    inputCol='features', \n",
    "    outputCol='scaled_features',\n",
    "    withMean=True, withStd=True\n",
    ")\n",
    "scaler_model = scaler.fit(train_data)\n",
    "train_scaled = scaler_model.transform(train_data)\n",
    "test_scaled = scaler_model.transform(test_data)"
   ]
  },
  {
   "cell_type": "code",
   "execution_count": 41,
   "id": "b634344c-bc74-4ec0-97ce-9f59cf08e053",
   "metadata": {},
   "outputs": [],
   "source": [
    "# LogisticRegression 모델\n",
    "\n",
    "lr = LogisticRegression(featuresCol='scaled_features', labelCol='num_bin', predictionCol='prediction')\n",
    "lr_model = lr.fit(train_scaled)\n",
    "lr_pred = lr_model.transform(test_scaled)"
   ]
  },
  {
   "cell_type": "code",
   "execution_count": 42,
   "id": "8a1f9804-2ed7-4c9a-8fa2-9f50406b80ff",
   "metadata": {},
   "outputs": [
    {
     "name": "stdout",
     "output_type": "stream",
     "text": [
      "accuracy   : 0.7584\n",
      "F1-score   : 0.7568\n",
      "+----------+\n",
      "|prediction|\n",
      "+----------+\n",
      "|       0.0|\n",
      "|       1.0|\n",
      "|       0.0|\n",
      "|       0.0|\n",
      "|       0.0|\n",
      "|       1.0|\n",
      "|       0.0|\n",
      "|       0.0|\n",
      "|       0.0|\n",
      "|       0.0|\n",
      "+----------+\n",
      "only showing top 10 rows\n",
      "\n"
     ]
    }
   ],
   "source": [
    "acc_eval = MulticlassClassificationEvaluator(labelCol=\"num_bin\", predictionCol=\"prediction\", metricName=\"accuracy\")\n",
    "f1_eval = MulticlassClassificationEvaluator(labelCol=\"num_bin\", predictionCol=\"prediction\", metricName=\"f1\")\n",
    "\n",
    "accuracy = acc_eval.evaluate(lr_pred)\n",
    "f1 = f1_eval.evaluate(lr_pred)\n",
    "\n",
    "print(f\"accuracy   : {accuracy:.4f}\")\n",
    "print(f\"F1-score   : {f1:.4f}\")\n",
    "lr_pred.select('prediction').show(10)"
   ]
  },
  {
   "cell_type": "markdown",
   "id": "18bc02fe-c8a7-4c3d-9403-9ede210b1853",
   "metadata": {},
   "source": [
    "# 4 .하이퍼파라미터 튜닝"
   ]
  },
  {
   "cell_type": "code",
   "execution_count": 44,
   "id": "13c409dd-dee5-4d2b-b83b-925d3a0f46e3",
   "metadata": {},
   "outputs": [
    {
     "name": "stdout",
     "output_type": "stream",
     "text": [
      "Model                |  Accuracy |  F1-score\n",
      "-------------------------------------------\n",
      "LogisticRegression   | 0.7517    | 0.7505\n",
      "RandomForest         | 0.7450    | 0.7457\n",
      "DecisionTree         | 0.7450    | 0.7467\n"
     ]
    }
   ],
   "source": [
    "# === 평가자 ===\n",
    "acc_eval = MulticlassClassificationEvaluator(labelCol=\"num_bin\", predictionCol=\"prediction\", metricName=\"accuracy\")\n",
    "f1_eval  = MulticlassClassificationEvaluator(labelCol=\"num_bin\", predictionCol=\"prediction\", metricName=\"f1\")\n",
    "\n",
    "results = []\n",
    "\n",
    "##### 1. 로지스틱 회귀 #####\n",
    "lr = LogisticRegression(featuresCol='scaled_features', labelCol='num_bin')\n",
    "lr_paramGrid = ParamGridBuilder() \\\n",
    "    .addGrid(lr.elasticNetParam, [0.0, 0.5, 1.0]) \\\n",
    "    .addGrid(lr.regParam, [0.01, 0.1, 1.0]) \\\n",
    "    .build()\n",
    "\n",
    "cv_lr = CrossValidator(estimator=lr, estimatorParamMaps=lr_paramGrid,\n",
    "                      evaluator=f1_eval, numFolds=3, seed=42)\n",
    "lr_cv_model = cv_lr.fit(train_scaled)\n",
    "lr_pred = lr_cv_model.transform(test_scaled)\n",
    "\n",
    "results.append((\n",
    "    \"LogisticRegression\",\n",
    "    acc_eval.evaluate(lr_pred),\n",
    "    f1_eval.evaluate(lr_pred)\n",
    "))\n",
    "\n",
    "##### 2. 랜덤포레스트 #####\n",
    "rf = RandomForestClassifier(featuresCol='features', labelCol='num_bin', predictionCol='prediction')\n",
    "rf_paramGrid = ParamGridBuilder() \\\n",
    "    .addGrid(rf.numTrees, [20, 50, 100]) \\\n",
    "    .addGrid(rf.maxDepth, [5, 10, 15]) \\\n",
    "    .build()\n",
    "\n",
    "cv_rf = CrossValidator(estimator=rf, estimatorParamMaps=rf_paramGrid,\n",
    "                      evaluator=f1_eval, numFolds=3, seed=42)\n",
    "rf_cv_model = cv_rf.fit(train_data)\n",
    "rf_pred = rf_cv_model.transform(test_data)\n",
    "\n",
    "results.append((\n",
    "    \"RandomForest\",\n",
    "    acc_eval.evaluate(rf_pred),\n",
    "    f1_eval.evaluate(rf_pred)\n",
    "))\n",
    "\n",
    "##### 3. 의사결정트리 #####\n",
    "dt = DecisionTreeClassifier(featuresCol='features', labelCol='num_bin', predictionCol='prediction')\n",
    "dt_paramGrid = ParamGridBuilder() \\\n",
    "    .addGrid(dt.maxDepth, [5, 10, 15]) \\\n",
    "    .addGrid(dt.minInstancesPerNode, [1, 5, 10]) \\\n",
    "    .build()\n",
    "\n",
    "cv_dt = CrossValidator(estimator=dt, estimatorParamMaps=dt_paramGrid,\n",
    "                      evaluator=f1_eval, numFolds=3, seed=42)\n",
    "dt_cv_model = cv_dt.fit(train_data)\n",
    "dt_pred = dt_cv_model.transform(test_data)\n",
    "\n",
    "results.append((\n",
    "    \"DecisionTree\",\n",
    "    acc_eval.evaluate(dt_pred),\n",
    "    f1_eval.evaluate(dt_pred)\n",
    "))\n",
    "\n",
    "##### 결과 보기 #####\n",
    "print(f\"{'Model':20s} | {'Accuracy':>9s} | {'F1-score':>9s}\")\n",
    "print('-'*43)\n",
    "for model, acc, f1 in results:\n",
    "    print(f\"{model:20s} | {acc:.4f}    | {f1:.4f}\")"
   ]
  },
  {
   "cell_type": "markdown",
   "id": "85ac820c-e714-4a3c-a135-637b7e69fa1b",
   "metadata": {},
   "source": [
    "# 결론"
   ]
  },
  {
   "cell_type": "markdown",
   "id": "915f6619-c748-4bc7-8fdc-9b766126ac4d",
   "metadata": {},
   "source": [
    "본 프로젝트는 UCI Heart Disease 데이터를 이용해 심장 질환 예측 분류 모델을 개발하는 프로젝트입니다.<br>\n",
    "결측치 처리, 피처 엔지니어링, 클래스 불균형 보정 등의 전처리 과정을 거쳤으며, <br>\n",
    "로지스틱 회귀, 랜덤 포레스트, 의사결정트리 총 3가지의 모델을 사용했습니다.<br>\n",
    "하이퍼 파라미터 튜닝 결과 로지스틱 회귀 모델이 정확도와 F1-score 가 가장 높아 모델에 가장 적합하다고 판단했습니다."
   ]
  }
 ],
 "metadata": {
  "kernelspec": {
   "display_name": "Python 3 (ipykernel)",
   "language": "python",
   "name": "python3"
  },
  "language_info": {
   "codemirror_mode": {
    "name": "ipython",
    "version": 3
   },
   "file_extension": ".py",
   "mimetype": "text/x-python",
   "name": "python",
   "nbconvert_exporter": "python",
   "pygments_lexer": "ipython3",
   "version": "3.11.6"
  }
 },
 "nbformat": 4,
 "nbformat_minor": 5
}
