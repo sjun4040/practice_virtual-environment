{
 "cells": [
  {
   "cell_type": "code",
   "execution_count": 1,
   "id": "d3081f8e-e7d6-44fc-b7b8-99fc76aebc1a",
   "metadata": {},
   "outputs": [],
   "source": [
    "from pyspark.sql import SparkSession\n",
    "MAX_MEMORY = '8g'\n",
    "spark = SparkSession.builder.appName(\"taxi-fare-prediction_2nd\")\\\n",
    "                .config('spark.driver.memory',MAX_MEMORY)\\\n",
    "                .config('spark.executor.memory', MAX_MEMORY)\\\n",
    "                .getOrCreate()"
   ]
  },
  {
   "cell_type": "code",
   "execution_count": 2,
   "id": "6d021e2c-06b6-40d4-9a0a-a66e4ab5001d",
   "metadata": {},
   "outputs": [
    {
     "name": "stdout",
     "output_type": "stream",
     "text": [
      "root\n",
      " |-- VendorID: integer (nullable = true)\n",
      " |-- tpep_pickup_datetime: timestamp (nullable = true)\n",
      " |-- tpep_dropoff_datetime: timestamp (nullable = true)\n",
      " |-- passenger_count: integer (nullable = true)\n",
      " |-- trip_distance: double (nullable = true)\n",
      " |-- RatecodeID: integer (nullable = true)\n",
      " |-- store_and_fwd_flag: string (nullable = true)\n",
      " |-- PULocationID: integer (nullable = true)\n",
      " |-- DOLocationID: integer (nullable = true)\n",
      " |-- payment_type: integer (nullable = true)\n",
      " |-- fare_amount: double (nullable = true)\n",
      " |-- extra: double (nullable = true)\n",
      " |-- mta_tax: double (nullable = true)\n",
      " |-- tip_amount: double (nullable = true)\n",
      " |-- tolls_amount: double (nullable = true)\n",
      " |-- improvement_surcharge: double (nullable = true)\n",
      " |-- total_amount: double (nullable = true)\n",
      " |-- congestion_surcharge: double (nullable = true)\n",
      "\n"
     ]
    }
   ],
   "source": [
    "import os\n",
    "cwd = os.getcwd()\n",
    "trip_data_path = os.path.join(cwd, 'learning_spark_data', 'trips', '*.csv')\n",
    "file_path = f\"file:///{ trip_data_path.replace(os.sep, '/')}\"\n",
    "trip_df = spark.read.csv(file_path, inferSchema=True, header=True)\n",
    "trip_df.printSchema()"
   ]
  },
  {
   "cell_type": "code",
   "execution_count": 3,
   "id": "3e9be3be-580b-4073-98ff-f435185d6ab4",
   "metadata": {},
   "outputs": [],
   "source": [
    "trip_df.createOrReplaceTempView('trips')"
   ]
  },
  {
   "cell_type": "code",
   "execution_count": 4,
   "id": "f8a550f1-252c-4300-86ce-0cbe55de5afd",
   "metadata": {},
   "outputs": [],
   "source": [
    "query = '''\n",
    "SELECT \n",
    "    passenger_count,\n",
    "    PULocationID as pickup_location_id,\n",
    "    DOLocationID as dropoff_location_id,\n",
    "    trip_distance,\n",
    "    HOUR(tpep_pickup_datetime) as pickup_time,\n",
    "    DATE_FORMAT(TO_DATE(tpep_pickup_datetime), 'EEEE') AS day_of_week,\n",
    "    total_amount\n",
    "FROM\n",
    "    trips\n",
    "WHERE\n",
    "    total_amount < 5000\n",
    "    AND total_amount > 0\n",
    "    AND trip_distance > 0\n",
    "    AND trip_distance < 500\n",
    "    AND passenger_count < 4\n",
    "    AND TO_DATE(tpep_pickup_datetime) >= '2021-01-01'\n",
    "    AND TO_DATE(tpep_pickup_datetime) < '2021-08-01'\n",
    "'''"
   ]
  },
  {
   "cell_type": "code",
   "execution_count": 5,
   "id": "f65fefe8-df66-4408-891f-f1b5e250ac2d",
   "metadata": {},
   "outputs": [
    {
     "name": "stdout",
     "output_type": "stream",
     "text": [
      "+---------------+------------------+-------------------+-------------+-----------+-----------+------------+\n",
      "|passenger_count|pickup_location_id|dropoff_location_id|trip_distance|pickup_time|day_of_week|total_amount|\n",
      "+---------------+------------------+-------------------+-------------+-----------+-----------+------------+\n",
      "|              0|               138|                265|         16.5|          0|     Monday|       70.07|\n",
      "|              1|                68|                264|         1.13|          0|     Monday|       11.16|\n",
      "|              1|               239|                262|         2.68|          0|     Monday|       18.59|\n",
      "|              1|               186|                 91|         12.4|          0|     Monday|        43.8|\n",
      "|              2|               132|                265|          9.7|          0|     Monday|        32.3|\n",
      "+---------------+------------------+-------------------+-------------+-----------+-----------+------------+\n",
      "only showing top 5 rows\n",
      "\n"
     ]
    }
   ],
   "source": [
    "data_df = spark.sql(query)\n",
    "data_df.show(5)"
   ]
  },
  {
   "cell_type": "code",
   "execution_count": 6,
   "id": "2ac760db-0901-4db6-a14f-32614bf72e67",
   "metadata": {},
   "outputs": [],
   "source": [
    "# train, test split 8:2, seed = 1\n",
    "train_df, test_df = data_df.randomSplit([0.8,0.2], seed=1)"
   ]
  },
  {
   "cell_type": "markdown",
   "id": "5af7b3d1-2ce1-4c32-9863-f3ee8875a32e",
   "metadata": {},
   "source": [
    "# 파이프라인 생성\n",
    "- 전처리 과정을 각 스테이지로 정의해서 쌓는다\n",
    "- 범주형 : StrionIndexer + one-hot encoding : 'pickup_location_id', 'dropoff_location_id', 'day_of_week'\n",
    "- 수치형 : StandardScaler : 'passenger_count', 'trip_distance', 'pickup_time'"
   ]
  },
  {
   "cell_type": "code",
   "execution_count": 7,
   "id": "2c3c636b-3ab0-4700-9613-34a4f0ad8d86",
   "metadata": {},
   "outputs": [],
   "source": [
    "stages = []"
   ]
  },
  {
   "cell_type": "code",
   "execution_count": 8,
   "id": "8bf97544-d5f9-4dec-ab55-6a2a09771932",
   "metadata": {},
   "outputs": [
    {
     "data": {
      "text/plain": [
       "[StringIndexer_11beb4487805,\n",
       " OneHotEncoder_296ac48edf38,\n",
       " StringIndexer_5ae755e11a96,\n",
       " OneHotEncoder_ebd76e94d665,\n",
       " StringIndexer_51f113713971,\n",
       " OneHotEncoder_6fe4a4c7bf97]"
      ]
     },
     "execution_count": 8,
     "metadata": {},
     "output_type": "execute_result"
    }
   ],
   "source": [
    "from pyspark.ml.feature import OneHotEncoder, StringIndexer\n",
    "cat_features = ['pickup_location_id', 'dropoff_location_id', 'day_of_week']\n",
    "for cat in cat_features:\n",
    "    cat_index = StringIndexer(inputCol=cat, outputCol=cat+'_idx').setHandleInvalid('keep')\n",
    "    onehot_encode = OneHotEncoder(inputCols= [cat_index.getOutputCol()], # _idx col \n",
    "                                 outputCols=[cat+'_onehot']) # postfix\n",
    "    stages += [cat_index, onehot_encode]  #collist\n",
    "stages"
   ]
  },
  {
   "cell_type": "code",
   "execution_count": 9,
   "id": "90b3ef85-999a-4fd7-b5b6-d6198e6d35ac",
   "metadata": {},
   "outputs": [
    {
     "data": {
      "text/plain": [
       "[StringIndexer_11beb4487805,\n",
       " OneHotEncoder_296ac48edf38,\n",
       " StringIndexer_5ae755e11a96,\n",
       " OneHotEncoder_ebd76e94d665,\n",
       " StringIndexer_51f113713971,\n",
       " OneHotEncoder_6fe4a4c7bf97,\n",
       " VectorAssembler_f24710c60987,\n",
       " StandardScaler_70e64a6ef59f,\n",
       " VectorAssembler_dc87ced11f9f,\n",
       " StandardScaler_79329ed24a06,\n",
       " VectorAssembler_d18681be5e6f,\n",
       " StandardScaler_ddc1a827d6b2]"
      ]
     },
     "execution_count": 9,
     "metadata": {},
     "output_type": "execute_result"
    }
   ],
   "source": [
    "from pyspark.ml.feature import StandardScaler, VectorAssembler\n",
    "num_features = ['passenger_count', 'trip_distance', 'pickup_time']\n",
    "\n",
    "for num in num_features:\n",
    "    num_assembler = VectorAssembler(inputCols=[num], outputCol=num+'_vector')\n",
    "    num_scaler = StandardScaler(inputCol=num_assembler.getOutputCol(), outputCol=num+'_scaled')\n",
    "    stages += [num_assembler, num_scaler]\n",
    "\n",
    "stages"
   ]
  },
  {
   "cell_type": "code",
   "execution_count": 10,
   "id": "7bfe3a4a-fa65-401f-9c1e-213af15bcd58",
   "metadata": {},
   "outputs": [
    {
     "data": {
      "text/plain": [
       "['pickup_location_id_onehot',\n",
       " 'dropoff_location_id_onehot',\n",
       " 'day_of_week_onehot',\n",
       " 'passenger_count_scaled',\n",
       " 'trip_distance_scaled',\n",
       " 'pickup_time_scaled']"
      ]
     },
     "execution_count": 10,
     "metadata": {},
     "output_type": "execute_result"
    }
   ],
   "source": [
    "assembler_input = [cat+'_onehot' for cat in cat_features] + [num+'_scaled' for num in num_features]\n",
    "assembler_input"
   ]
  },
  {
   "cell_type": "markdown",
   "id": "a3b5f5e4-6da6-4fa7-aeaf-edfe03c80105",
   "metadata": {},
   "source": [
    "선형회귀 모델 - 값들이 수치형 <br>\n",
    "원시 데이터 : data_df = feature(6) + label(1)<br>\n",
    "범주형 전처리 : cat_feature = 3 -> StringIndex + OneHotEncoding<br>\n",
    "수치형 전처리 : num_feature = 3 -> VectorAssemble + StandardScaling<br>\n",
    "각 피처마다 2단계에 걸쳐 전처리<br>\n",
    "총 6개 피처 -> 2단계 -> 6개 컬럼 -> Vector : features_vector<br>\n",
    "_onehot 3개<br>\n",
    "_scaled 3개<br>"
   ]
  },
  {
   "cell_type": "code",
   "execution_count": 11,
   "id": "144769bd-cc1c-4dbb-826f-c4afbe8c68cc",
   "metadata": {},
   "outputs": [
    {
     "data": {
      "text/plain": [
       "[StringIndexer_11beb4487805,\n",
       " OneHotEncoder_296ac48edf38,\n",
       " StringIndexer_5ae755e11a96,\n",
       " OneHotEncoder_ebd76e94d665,\n",
       " StringIndexer_51f113713971,\n",
       " OneHotEncoder_6fe4a4c7bf97,\n",
       " VectorAssembler_f24710c60987,\n",
       " StandardScaler_70e64a6ef59f,\n",
       " VectorAssembler_dc87ced11f9f,\n",
       " StandardScaler_79329ed24a06,\n",
       " VectorAssembler_d18681be5e6f,\n",
       " StandardScaler_ddc1a827d6b2,\n",
       " VectorAssembler_334f37d86ff5]"
      ]
     },
     "execution_count": 11,
     "metadata": {},
     "output_type": "execute_result"
    }
   ],
   "source": [
    "assembler = VectorAssembler(inputCols=assembler_input, outputCol='feature_vector')\n",
    "stages += [assembler] \n",
    "stages"
   ]
  },
  {
   "cell_type": "code",
   "execution_count": 12,
   "id": "55b822ec-c497-4c02-86f1-dbb681dd05ea",
   "metadata": {},
   "outputs": [
    {
     "name": "stdout",
     "output_type": "stream",
     "text": [
      "root\n",
      " |-- passenger_count: integer (nullable = true)\n",
      " |-- pickup_location_id: integer (nullable = true)\n",
      " |-- dropoff_location_id: integer (nullable = true)\n",
      " |-- trip_distance: double (nullable = true)\n",
      " |-- pickup_time: integer (nullable = true)\n",
      " |-- day_of_week: string (nullable = true)\n",
      " |-- total_amount: double (nullable = true)\n",
      " |-- pickup_location_id_idx: double (nullable = false)\n",
      " |-- pickup_location_id_onehot: vector (nullable = true)\n",
      " |-- dropoff_location_id_idx: double (nullable = false)\n",
      " |-- dropoff_location_id_onehot: vector (nullable = true)\n",
      " |-- day_of_week_idx: double (nullable = false)\n",
      " |-- day_of_week_onehot: vector (nullable = true)\n",
      " |-- passenger_count_vector: vector (nullable = true)\n",
      " |-- passenger_count_scaled: vector (nullable = true)\n",
      " |-- trip_distance_vector: vector (nullable = true)\n",
      " |-- trip_distance_scaled: vector (nullable = true)\n",
      " |-- pickup_time_vector: vector (nullable = true)\n",
      " |-- pickup_time_scaled: vector (nullable = true)\n",
      " |-- feature_vector: vector (nullable = true)\n",
      "\n"
     ]
    }
   ],
   "source": [
    "from pyspark.ml import Pipeline\n",
    "pipeline = Pipeline(stages=stages)\n",
    "fitted_transform = pipeline.fit(train_df)\n",
    "vtrain_df = fitted_transform.transform(train_df)\n",
    "vtrain_df.printSchema()"
   ]
  },
  {
   "cell_type": "code",
   "execution_count": 13,
   "id": "20805ced-9c5e-4b40-85cc-d5b29ae5937c",
   "metadata": {},
   "outputs": [
    {
     "name": "stdout",
     "output_type": "stream",
     "text": [
      "+--------------------+\n",
      "|      feature_vector|\n",
      "+--------------------+\n",
      "|(533,[62,311,527,...|\n",
      "|(533,[62,280,526,...|\n",
      "+--------------------+\n",
      "only showing top 2 rows\n",
      "\n"
     ]
    }
   ],
   "source": [
    "vtrain_df.select('feature_vector').show(2)"
   ]
  },
  {
   "cell_type": "code",
   "execution_count": 14,
   "id": "da44eea5-fdc0-4269-9171-a423738b109e",
   "metadata": {},
   "outputs": [],
   "source": [
    "from pyspark.ml.regression import LinearRegression\n",
    "lr = LinearRegression(maxIter=50, solver='normal', labelCol='total_amount', featuresCol='feature_vector')"
   ]
  },
  {
   "cell_type": "code",
   "execution_count": 15,
   "id": "a9ea9ff0-dee2-41ae-a0ad-4d918d0d7b8e",
   "metadata": {},
   "outputs": [],
   "source": [
    "lrModel = lr.fit(vtrain_df)"
   ]
  },
  {
   "cell_type": "code",
   "execution_count": 16,
   "id": "0af0cd4c-f934-49ce-8cc2-f05b31cdfea8",
   "metadata": {},
   "outputs": [],
   "source": [
    "# 테스트데이터로 변환\n",
    "vtest_df = fitted_transform.transform(test_df)\n",
    "# 테스트데이터로 예측\n",
    "pred = lrModel.transform(vtest_df)"
   ]
  },
  {
   "cell_type": "code",
   "execution_count": 17,
   "id": "4b28a461-be09-403b-a671-1ff8c1804dd6",
   "metadata": {},
   "outputs": [
    {
     "name": "stdout",
     "output_type": "stream",
     "text": [
      "+------------+------------------+\n",
      "|total_amount|        prediction|\n",
      "+------------+------------------+\n",
      "|       10.55|12.695522792729275|\n",
      "|        13.3|14.450558014776915|\n",
      "|        21.3|21.108271361254218|\n",
      "+------------+------------------+\n",
      "only showing top 3 rows\n",
      "\n"
     ]
    }
   ],
   "source": [
    "pred.select('total_amount', 'prediction').show(3)"
   ]
  },
  {
   "cell_type": "code",
   "execution_count": 19,
   "id": "cf1244d5-4f9a-4187-855b-d3a05235e2a1",
   "metadata": {},
   "outputs": [
    {
     "data": {
      "text/plain": [
       "(0.80849012500813, 5.6485201652667625)"
      ]
     },
     "execution_count": 19,
     "metadata": {},
     "output_type": "execute_result"
    }
   ],
   "source": [
    "lrModel.summary.r2, lrModel.summary.rootMeanSquaredError"
   ]
  },
  {
   "cell_type": "code",
   "execution_count": 20,
   "id": "b8eddb17-07a8-4abe-b74c-b70f706893a9",
   "metadata": {},
   "outputs": [],
   "source": [
    "spark.stop()"
   ]
  },
  {
   "cell_type": "code",
   "execution_count": null,
   "id": "651ac16b-90bf-45b9-8066-0b9a27faf8cd",
   "metadata": {},
   "outputs": [],
   "source": []
  }
 ],
 "metadata": {
  "kernelspec": {
   "display_name": "Python 3 (ipykernel)",
   "language": "python",
   "name": "python3"
  },
  "language_info": {
   "codemirror_mode": {
    "name": "ipython",
    "version": 3
   },
   "file_extension": ".py",
   "mimetype": "text/x-python",
   "name": "python",
   "nbconvert_exporter": "python",
   "pygments_lexer": "ipython3",
   "version": "3.11.6"
  }
 },
 "nbformat": 4,
 "nbformat_minor": 5
}
