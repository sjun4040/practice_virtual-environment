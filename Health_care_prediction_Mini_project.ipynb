{
 "cells": [
  {
   "cell_type": "markdown",
   "id": "96262fcb-f5cd-4cce-940b-18b1a724dd0a",
   "metadata": {},
   "source": [
    "# Health_care_prediction Mini project"
   ]
  },
  {
   "cell_type": "markdown",
   "id": "d88f9531-7ed3-42f7-9cbd-22d7c9202a79",
   "metadata": {},
   "source": [
    "실제 의료 데이터를 모방하여 설계된 데이터를 이용한 검사 결과 예측 프로그램입니다.<br>\n",
    "데이터 출처 : 'https://www.kaggle.com/datasets/prasad22/healthcare-dataset'"
   ]
  },
  {
   "cell_type": "code",
   "execution_count": 1,
   "id": "aa9bef2e-613d-422a-a2e2-95f52bdadd63",
   "metadata": {},
   "outputs": [],
   "source": [
    "# spark.stop()"
   ]
  },
  {
   "cell_type": "code",
   "execution_count": 2,
   "id": "9d6b5cf3-5bb1-499c-8a78-c02979802225",
   "metadata": {},
   "outputs": [],
   "source": [
    "from pyspark.sql import SparkSession\n",
    "MAX_MEMORY = '8g'\n",
    "spark = SparkSession.builder.appName(\"Health_cares\")\\\n",
    "                .config('spark.driver.memory',MAX_MEMORY)\\\n",
    "                .config('spark.executor.memory', MAX_MEMORY)\\\n",
    "                .getOrCreate()"
   ]
  },
  {
   "cell_type": "markdown",
   "id": "3448f558-bbc9-45fa-af44-96d6ff2817ee",
   "metadata": {},
   "source": [
    "# 0. 라이브러리 불러오기 "
   ]
  },
  {
   "cell_type": "code",
   "execution_count": 52,
   "id": "1ab72549-0026-402c-a02d-9774839e5cd5",
   "metadata": {},
   "outputs": [],
   "source": [
    "# PySpark 기본\n",
    "from pyspark.sql import SparkSession\n",
    "from pyspark.ml import Pipeline\n",
    "from pyspark.ml.feature import StringIndexer, OneHotEncoder, VectorAssembler, StandardScaler\n",
    "from pyspark.ml.classification import RandomForestClassifier, LogisticRegression, DecisionTreeClassifier\n",
    "from pyspark.ml.evaluation import MulticlassClassificationEvaluator\n",
    "from pyspark.sql.functions import col, isnan, isnull, when, count, log1p, to_date, datediff\n",
    "\n",
    "# 데이터 핸들링/변환\n",
    "import pandas as pd\n",
    "import numpy as np\n",
    "\n",
    "# EDA/시각화 )\n",
    "import matplotlib.pyplot as plt\n",
    "import seaborn as sns\n",
    "\n",
    "# 모델 평가/해석\n",
    "from sklearn.metrics import classification_report, confusion_matrix\n",
    "\n",
    "# 시스템\n",
    "import os\n",
    "import sys"
   ]
  },
  {
   "cell_type": "markdown",
   "id": "7022c7ab-3c19-4a77-8a42-b337477c571e",
   "metadata": {},
   "source": [
    "# 1. 데이터 불러오기"
   ]
  },
  {
   "cell_type": "code",
   "execution_count": 4,
   "id": "d2572d13-3ea5-4d22-858e-d769e24a32e9",
   "metadata": {},
   "outputs": [],
   "source": [
    "health_df = spark.read.csv('file:////home/jovyan/work/practice_virtual-environment/Healthcare_miniproject/healthcare_dataset.csv'\n",
    "    , inferSchema=True, header=True)"
   ]
  },
  {
   "cell_type": "code",
   "execution_count": 5,
   "id": "6518a99d-6133-4035-92be-1163140871dc",
   "metadata": {},
   "outputs": [
    {
     "data": {
      "text/html": [
       "<div>\n",
       "<style scoped>\n",
       "    .dataframe tbody tr th:only-of-type {\n",
       "        vertical-align: middle;\n",
       "    }\n",
       "\n",
       "    .dataframe tbody tr th {\n",
       "        vertical-align: top;\n",
       "    }\n",
       "\n",
       "    .dataframe thead th {\n",
       "        text-align: right;\n",
       "    }\n",
       "</style>\n",
       "<table border=\"1\" class=\"dataframe\">\n",
       "  <thead>\n",
       "    <tr style=\"text-align: right;\">\n",
       "      <th></th>\n",
       "      <th>Name</th>\n",
       "      <th>Age</th>\n",
       "      <th>Gender</th>\n",
       "      <th>Blood Type</th>\n",
       "      <th>Medical Condition</th>\n",
       "      <th>Date of Admission</th>\n",
       "      <th>Doctor</th>\n",
       "      <th>Hospital</th>\n",
       "      <th>Insurance Provider</th>\n",
       "      <th>Billing Amount</th>\n",
       "      <th>Room Number</th>\n",
       "      <th>Admission Type</th>\n",
       "      <th>Discharge Date</th>\n",
       "      <th>Medication</th>\n",
       "      <th>Test Results</th>\n",
       "    </tr>\n",
       "  </thead>\n",
       "  <tbody>\n",
       "    <tr>\n",
       "      <th>0</th>\n",
       "      <td>Bobby JacksOn</td>\n",
       "      <td>30</td>\n",
       "      <td>Male</td>\n",
       "      <td>B-</td>\n",
       "      <td>Cancer</td>\n",
       "      <td>2024-01-31</td>\n",
       "      <td>Matthew Smith</td>\n",
       "      <td>Sons and Miller</td>\n",
       "      <td>Blue Cross</td>\n",
       "      <td>18856.281306</td>\n",
       "      <td>328</td>\n",
       "      <td>Urgent</td>\n",
       "      <td>2024-02-02</td>\n",
       "      <td>Paracetamol</td>\n",
       "      <td>Normal</td>\n",
       "    </tr>\n",
       "    <tr>\n",
       "      <th>1</th>\n",
       "      <td>LesLie TErRy</td>\n",
       "      <td>62</td>\n",
       "      <td>Male</td>\n",
       "      <td>A+</td>\n",
       "      <td>Obesity</td>\n",
       "      <td>2019-08-20</td>\n",
       "      <td>Samantha Davies</td>\n",
       "      <td>Kim Inc</td>\n",
       "      <td>Medicare</td>\n",
       "      <td>33643.327287</td>\n",
       "      <td>265</td>\n",
       "      <td>Emergency</td>\n",
       "      <td>2019-08-26</td>\n",
       "      <td>Ibuprofen</td>\n",
       "      <td>Inconclusive</td>\n",
       "    </tr>\n",
       "    <tr>\n",
       "      <th>2</th>\n",
       "      <td>DaNnY sMitH</td>\n",
       "      <td>76</td>\n",
       "      <td>Female</td>\n",
       "      <td>A-</td>\n",
       "      <td>Obesity</td>\n",
       "      <td>2022-09-22</td>\n",
       "      <td>Tiffany Mitchell</td>\n",
       "      <td>Cook PLC</td>\n",
       "      <td>Aetna</td>\n",
       "      <td>27955.096079</td>\n",
       "      <td>205</td>\n",
       "      <td>Emergency</td>\n",
       "      <td>2022-10-07</td>\n",
       "      <td>Aspirin</td>\n",
       "      <td>Normal</td>\n",
       "    </tr>\n",
       "    <tr>\n",
       "      <th>3</th>\n",
       "      <td>andrEw waTtS</td>\n",
       "      <td>28</td>\n",
       "      <td>Female</td>\n",
       "      <td>O+</td>\n",
       "      <td>Diabetes</td>\n",
       "      <td>2020-11-18</td>\n",
       "      <td>Kevin Wells</td>\n",
       "      <td>Hernandez Rogers and Vang,</td>\n",
       "      <td>Medicare</td>\n",
       "      <td>37909.782410</td>\n",
       "      <td>450</td>\n",
       "      <td>Elective</td>\n",
       "      <td>2020-12-18</td>\n",
       "      <td>Ibuprofen</td>\n",
       "      <td>Abnormal</td>\n",
       "    </tr>\n",
       "    <tr>\n",
       "      <th>4</th>\n",
       "      <td>adrIENNE bEll</td>\n",
       "      <td>43</td>\n",
       "      <td>Female</td>\n",
       "      <td>AB+</td>\n",
       "      <td>Cancer</td>\n",
       "      <td>2022-09-19</td>\n",
       "      <td>Kathleen Hanna</td>\n",
       "      <td>White-White</td>\n",
       "      <td>Aetna</td>\n",
       "      <td>14238.317814</td>\n",
       "      <td>458</td>\n",
       "      <td>Urgent</td>\n",
       "      <td>2022-10-09</td>\n",
       "      <td>Penicillin</td>\n",
       "      <td>Abnormal</td>\n",
       "    </tr>\n",
       "    <tr>\n",
       "      <th>...</th>\n",
       "      <td>...</td>\n",
       "      <td>...</td>\n",
       "      <td>...</td>\n",
       "      <td>...</td>\n",
       "      <td>...</td>\n",
       "      <td>...</td>\n",
       "      <td>...</td>\n",
       "      <td>...</td>\n",
       "      <td>...</td>\n",
       "      <td>...</td>\n",
       "      <td>...</td>\n",
       "      <td>...</td>\n",
       "      <td>...</td>\n",
       "      <td>...</td>\n",
       "      <td>...</td>\n",
       "    </tr>\n",
       "    <tr>\n",
       "      <th>55495</th>\n",
       "      <td>eLIZABeTH jaCkSOn</td>\n",
       "      <td>42</td>\n",
       "      <td>Female</td>\n",
       "      <td>O+</td>\n",
       "      <td>Asthma</td>\n",
       "      <td>2020-08-16</td>\n",
       "      <td>Joshua Jarvis</td>\n",
       "      <td>Jones-Thompson</td>\n",
       "      <td>Blue Cross</td>\n",
       "      <td>2650.714952</td>\n",
       "      <td>417</td>\n",
       "      <td>Elective</td>\n",
       "      <td>2020-09-15</td>\n",
       "      <td>Penicillin</td>\n",
       "      <td>Abnormal</td>\n",
       "    </tr>\n",
       "    <tr>\n",
       "      <th>55496</th>\n",
       "      <td>KYle pEREz</td>\n",
       "      <td>61</td>\n",
       "      <td>Female</td>\n",
       "      <td>AB-</td>\n",
       "      <td>Obesity</td>\n",
       "      <td>2020-01-23</td>\n",
       "      <td>Taylor Sullivan</td>\n",
       "      <td>Tucker-Moyer</td>\n",
       "      <td>Cigna</td>\n",
       "      <td>31457.797307</td>\n",
       "      <td>316</td>\n",
       "      <td>Elective</td>\n",
       "      <td>2020-02-01</td>\n",
       "      <td>Aspirin</td>\n",
       "      <td>Normal</td>\n",
       "    </tr>\n",
       "    <tr>\n",
       "      <th>55497</th>\n",
       "      <td>HEATher WaNG</td>\n",
       "      <td>38</td>\n",
       "      <td>Female</td>\n",
       "      <td>B+</td>\n",
       "      <td>Hypertension</td>\n",
       "      <td>2020-07-13</td>\n",
       "      <td>Joe Jacobs DVM</td>\n",
       "      <td>and Mahoney Johnson Vasquez,</td>\n",
       "      <td>UnitedHealthcare</td>\n",
       "      <td>27620.764717</td>\n",
       "      <td>347</td>\n",
       "      <td>Urgent</td>\n",
       "      <td>2020-08-10</td>\n",
       "      <td>Ibuprofen</td>\n",
       "      <td>Abnormal</td>\n",
       "    </tr>\n",
       "    <tr>\n",
       "      <th>55498</th>\n",
       "      <td>JENniFER JOneS</td>\n",
       "      <td>43</td>\n",
       "      <td>Male</td>\n",
       "      <td>O-</td>\n",
       "      <td>Arthritis</td>\n",
       "      <td>2019-05-25</td>\n",
       "      <td>Kimberly Curry</td>\n",
       "      <td>Jackson Todd and Castro,</td>\n",
       "      <td>Medicare</td>\n",
       "      <td>32451.092358</td>\n",
       "      <td>321</td>\n",
       "      <td>Elective</td>\n",
       "      <td>2019-05-31</td>\n",
       "      <td>Ibuprofen</td>\n",
       "      <td>Abnormal</td>\n",
       "    </tr>\n",
       "    <tr>\n",
       "      <th>55499</th>\n",
       "      <td>jAMES GARCiA</td>\n",
       "      <td>53</td>\n",
       "      <td>Female</td>\n",
       "      <td>O+</td>\n",
       "      <td>Arthritis</td>\n",
       "      <td>2024-04-02</td>\n",
       "      <td>Dennis Warren</td>\n",
       "      <td>Henry Sons and</td>\n",
       "      <td>Aetna</td>\n",
       "      <td>4010.134172</td>\n",
       "      <td>448</td>\n",
       "      <td>Urgent</td>\n",
       "      <td>2024-04-29</td>\n",
       "      <td>Ibuprofen</td>\n",
       "      <td>Abnormal</td>\n",
       "    </tr>\n",
       "  </tbody>\n",
       "</table>\n",
       "<p>55500 rows × 15 columns</p>\n",
       "</div>"
      ],
      "text/plain": [
       "                    Name  Age  Gender Blood Type Medical Condition  \\\n",
       "0          Bobby JacksOn   30    Male         B-            Cancer   \n",
       "1           LesLie TErRy   62    Male         A+           Obesity   \n",
       "2            DaNnY sMitH   76  Female         A-           Obesity   \n",
       "3           andrEw waTtS   28  Female         O+          Diabetes   \n",
       "4          adrIENNE bEll   43  Female        AB+            Cancer   \n",
       "...                  ...  ...     ...        ...               ...   \n",
       "55495  eLIZABeTH jaCkSOn   42  Female         O+            Asthma   \n",
       "55496         KYle pEREz   61  Female        AB-           Obesity   \n",
       "55497       HEATher WaNG   38  Female         B+      Hypertension   \n",
       "55498     JENniFER JOneS   43    Male         O-         Arthritis   \n",
       "55499       jAMES GARCiA   53  Female         O+         Arthritis   \n",
       "\n",
       "      Date of Admission            Doctor                      Hospital  \\\n",
       "0            2024-01-31     Matthew Smith               Sons and Miller   \n",
       "1            2019-08-20   Samantha Davies                       Kim Inc   \n",
       "2            2022-09-22  Tiffany Mitchell                      Cook PLC   \n",
       "3            2020-11-18       Kevin Wells    Hernandez Rogers and Vang,   \n",
       "4            2022-09-19    Kathleen Hanna                   White-White   \n",
       "...                 ...               ...                           ...   \n",
       "55495        2020-08-16     Joshua Jarvis                Jones-Thompson   \n",
       "55496        2020-01-23   Taylor Sullivan                  Tucker-Moyer   \n",
       "55497        2020-07-13    Joe Jacobs DVM  and Mahoney Johnson Vasquez,   \n",
       "55498        2019-05-25    Kimberly Curry      Jackson Todd and Castro,   \n",
       "55499        2024-04-02     Dennis Warren                Henry Sons and   \n",
       "\n",
       "      Insurance Provider  Billing Amount  Room Number Admission Type  \\\n",
       "0             Blue Cross    18856.281306          328         Urgent   \n",
       "1               Medicare    33643.327287          265      Emergency   \n",
       "2                  Aetna    27955.096079          205      Emergency   \n",
       "3               Medicare    37909.782410          450       Elective   \n",
       "4                  Aetna    14238.317814          458         Urgent   \n",
       "...                  ...             ...          ...            ...   \n",
       "55495         Blue Cross     2650.714952          417       Elective   \n",
       "55496              Cigna    31457.797307          316       Elective   \n",
       "55497   UnitedHealthcare    27620.764717          347         Urgent   \n",
       "55498           Medicare    32451.092358          321       Elective   \n",
       "55499              Aetna     4010.134172          448         Urgent   \n",
       "\n",
       "      Discharge Date   Medication  Test Results  \n",
       "0         2024-02-02  Paracetamol        Normal  \n",
       "1         2019-08-26    Ibuprofen  Inconclusive  \n",
       "2         2022-10-07      Aspirin        Normal  \n",
       "3         2020-12-18    Ibuprofen      Abnormal  \n",
       "4         2022-10-09   Penicillin      Abnormal  \n",
       "...              ...          ...           ...  \n",
       "55495     2020-09-15   Penicillin      Abnormal  \n",
       "55496     2020-02-01      Aspirin        Normal  \n",
       "55497     2020-08-10    Ibuprofen      Abnormal  \n",
       "55498     2019-05-31    Ibuprofen      Abnormal  \n",
       "55499     2024-04-29    Ibuprofen      Abnormal  \n",
       "\n",
       "[55500 rows x 15 columns]"
      ]
     },
     "execution_count": 5,
     "metadata": {},
     "output_type": "execute_result"
    }
   ],
   "source": [
    "health_df.toPandas()"
   ]
  },
  {
   "cell_type": "markdown",
   "id": "fca79367-1388-4dcf-94df-d7d74bea911e",
   "metadata": {},
   "source": [
    "# 2. EDA + 전처리 "
   ]
  },
  {
   "cell_type": "code",
   "execution_count": 6,
   "id": "71b0c428-226b-45ef-96e6-1c4fcc33dbd5",
   "metadata": {},
   "outputs": [
    {
     "name": "stdout",
     "output_type": "stream",
     "text": [
      "root\n",
      " |-- Name: string (nullable = true)\n",
      " |-- Age: integer (nullable = true)\n",
      " |-- Gender: string (nullable = true)\n",
      " |-- Blood Type: string (nullable = true)\n",
      " |-- Medical Condition: string (nullable = true)\n",
      " |-- Date of Admission: date (nullable = true)\n",
      " |-- Doctor: string (nullable = true)\n",
      " |-- Hospital: string (nullable = true)\n",
      " |-- Insurance Provider: string (nullable = true)\n",
      " |-- Billing Amount: double (nullable = true)\n",
      " |-- Room Number: integer (nullable = true)\n",
      " |-- Admission Type: string (nullable = true)\n",
      " |-- Discharge Date: date (nullable = true)\n",
      " |-- Medication: string (nullable = true)\n",
      " |-- Test Results: string (nullable = true)\n",
      "\n"
     ]
    }
   ],
   "source": [
    "health_df.printSchema()"
   ]
  },
  {
   "cell_type": "markdown",
   "id": "2e6a9107-ac17-443b-bd80-39b56cb0ee8c",
   "metadata": {},
   "source": [
    "Schema 용어 정리\n",
    "이름 : Name<br>\n",
    "나이 : Age<br>\n",
    "성별 : Gender<br>\n",
    "혈액형 : Blood Type<br>\n",
    "건강 상태 : Medical Condition<br>\n",
    "입원 날짜: Date of Admission<br>\n",
    "의사: Doctor<br>\n",
    "병원: Hospital<br>\n",
    "보험 제공자: Insurance Provider <br>\n",
    "청구 금액: Billing Amount<br>\n",
    "병실 번호: Room Number<br>\n",
    "입원 유형: Admission Type<br>\n",
    "퇴원 날짜: Discharge Date<br>\n",
    "약물: Medication<br>\n",
    "검사 결과 : Test Results"
   ]
  },
  {
   "cell_type": "markdown",
   "id": "aa9c0860-24b5-4916-a78c-68f8b69bd6f1",
   "metadata": {},
   "source": [
    "검사 결과를 예측하는 프로젝트이기에 검사결과(Test Results)는 타겟으로 분리,<br>\n",
    "이름, 의사, 병원, 보험제공자, 병실 번호는 검사결과에 <br>\n",
    "유의미한 영향을 끼치지 못할 거라 판단, 삭제 예정 "
   ]
  },
  {
   "cell_type": "code",
   "execution_count": 7,
   "id": "a8d84643-bf40-467a-a607-08406830a8c1",
   "metadata": {},
   "outputs": [],
   "source": [
    "# 개인 정보 또는 무의미한 컬럼 삭제\n",
    "health_df = health_df.drop('Name', 'Doctor', 'Hospital' , 'Insurance Provider', 'Room Number')"
   ]
  },
  {
   "cell_type": "code",
   "execution_count": 8,
   "id": "cea62d97-f45d-4d23-a5dd-e17dfa8143fc",
   "metadata": {},
   "outputs": [
    {
     "data": {
      "text/html": [
       "<div>\n",
       "<style scoped>\n",
       "    .dataframe tbody tr th:only-of-type {\n",
       "        vertical-align: middle;\n",
       "    }\n",
       "\n",
       "    .dataframe tbody tr th {\n",
       "        vertical-align: top;\n",
       "    }\n",
       "\n",
       "    .dataframe thead th {\n",
       "        text-align: right;\n",
       "    }\n",
       "</style>\n",
       "<table border=\"1\" class=\"dataframe\">\n",
       "  <thead>\n",
       "    <tr style=\"text-align: right;\">\n",
       "      <th></th>\n",
       "      <th>summary</th>\n",
       "      <th>Age</th>\n",
       "      <th>Gender</th>\n",
       "      <th>Blood Type</th>\n",
       "      <th>Medical Condition</th>\n",
       "      <th>Billing Amount</th>\n",
       "      <th>Admission Type</th>\n",
       "      <th>Medication</th>\n",
       "      <th>Test Results</th>\n",
       "    </tr>\n",
       "  </thead>\n",
       "  <tbody>\n",
       "    <tr>\n",
       "      <th>0</th>\n",
       "      <td>count</td>\n",
       "      <td>55500</td>\n",
       "      <td>55500</td>\n",
       "      <td>55500</td>\n",
       "      <td>55500</td>\n",
       "      <td>55500</td>\n",
       "      <td>55500</td>\n",
       "      <td>55500</td>\n",
       "      <td>55500</td>\n",
       "    </tr>\n",
       "    <tr>\n",
       "      <th>1</th>\n",
       "      <td>mean</td>\n",
       "      <td>51.53945945945946</td>\n",
       "      <td>None</td>\n",
       "      <td>None</td>\n",
       "      <td>None</td>\n",
       "      <td>25539.316097211744</td>\n",
       "      <td>None</td>\n",
       "      <td>None</td>\n",
       "      <td>None</td>\n",
       "    </tr>\n",
       "    <tr>\n",
       "      <th>2</th>\n",
       "      <td>stddev</td>\n",
       "      <td>19.602453808514394</td>\n",
       "      <td>None</td>\n",
       "      <td>None</td>\n",
       "      <td>None</td>\n",
       "      <td>14211.454430864422</td>\n",
       "      <td>None</td>\n",
       "      <td>None</td>\n",
       "      <td>None</td>\n",
       "    </tr>\n",
       "    <tr>\n",
       "      <th>3</th>\n",
       "      <td>min</td>\n",
       "      <td>13</td>\n",
       "      <td>Female</td>\n",
       "      <td>A+</td>\n",
       "      <td>Arthritis</td>\n",
       "      <td>-2008.4921398591305</td>\n",
       "      <td>Elective</td>\n",
       "      <td>Aspirin</td>\n",
       "      <td>Abnormal</td>\n",
       "    </tr>\n",
       "    <tr>\n",
       "      <th>4</th>\n",
       "      <td>max</td>\n",
       "      <td>89</td>\n",
       "      <td>Male</td>\n",
       "      <td>O-</td>\n",
       "      <td>Obesity</td>\n",
       "      <td>52764.276736469175</td>\n",
       "      <td>Urgent</td>\n",
       "      <td>Penicillin</td>\n",
       "      <td>Normal</td>\n",
       "    </tr>\n",
       "  </tbody>\n",
       "</table>\n",
       "</div>"
      ],
      "text/plain": [
       "  summary                 Age  Gender Blood Type Medical Condition  \\\n",
       "0   count               55500   55500      55500             55500   \n",
       "1    mean   51.53945945945946    None       None              None   \n",
       "2  stddev  19.602453808514394    None       None              None   \n",
       "3     min                  13  Female         A+         Arthritis   \n",
       "4     max                  89    Male         O-           Obesity   \n",
       "\n",
       "        Billing Amount Admission Type  Medication Test Results  \n",
       "0                55500          55500       55500        55500  \n",
       "1   25539.316097211744           None        None         None  \n",
       "2   14211.454430864422           None        None         None  \n",
       "3  -2008.4921398591305       Elective     Aspirin     Abnormal  \n",
       "4   52764.276736469175         Urgent  Penicillin       Normal  "
      ]
     },
     "execution_count": 8,
     "metadata": {},
     "output_type": "execute_result"
    }
   ],
   "source": [
    "health_df.describe().toPandas()"
   ]
  },
  {
   "cell_type": "code",
   "execution_count": 9,
   "id": "9a17d2d6-01e1-456b-962b-349f49d4cc32",
   "metadata": {},
   "outputs": [
    {
     "name": "stdout",
     "output_type": "stream",
     "text": [
      "Age                  0\n",
      "Gender               0\n",
      "Blood Type           0\n",
      "Medical Condition    0\n",
      "Date of Admission    0\n",
      "Billing Amount       0\n",
      "Admission Type       0\n",
      "Discharge Date       0\n",
      "Medication           0\n",
      "Test Results         0\n",
      "dtype: int64\n"
     ]
    }
   ],
   "source": [
    "# 결측치 확인(데이터의 양이 너무 크지 않기에 판다스로 변환해서 결측치 확인)\n",
    "health_pd = health_df.toPandas()\n",
    "print(health_pd.isnull().sum())"
   ]
  },
  {
   "cell_type": "code",
   "execution_count": 10,
   "id": "e1dfee6b-4ef2-4347-a46a-bfe99450dc4b",
   "metadata": {},
   "outputs": [
    {
     "data": {
      "image/png": "[encoded data removed]",
      "text/plain": [
       "<Figure size 1200x600 with 2 Axes>"
      ]
     },
     "metadata": {},
     "output_type": "display_data"
    }
   ],
   "source": [
    "# 수치형 데이터('Age', 'Billing Amount') 이상치 처리 \n",
    "age_data = health_pd['Age'].dropna().values\n",
    "billing_data = health_pd['Billing Amount'].dropna().values\n",
    "\n",
    "fig, axes = plt.subplots(nrows=1, ncols=2, figsize=(12, 6))  \n",
    "\n",
    "# Age 박스플롯(왼쪽)\n",
    "axes[0].boxplot(age_data, patch_artist=True,\n",
    "                boxprops=dict(facecolor='#32a852', color='blue', linewidth=2),\n",
    "                medianprops=dict(color='white'))\n",
    "axes[0].set_title('Age Boxplot', fontsize=13)\n",
    "axes[0].set_ylabel('Age', fontsize=12)\n",
    "axes[0].set_xticklabels(['Age'])\n",
    "\n",
    "# Billing Amount 박스플롯(오른쪽)\n",
    "axes[1].boxplot(billing_data, patch_artist=True,\n",
    "                boxprops=dict(facecolor='#8e59d9', color='blue', linewidth=2),\n",
    "                medianprops=dict(color='white'))\n",
    "axes[1].set_title('Billing Amount Boxplot', fontsize=13)\n",
    "axes[1].set_ylabel('Billing Amount', fontsize=12)\n",
    "axes[1].set_xticklabels(['Billing Amount'])\n",
    "\n",
    "fig.suptitle('Outlier Detection', fontsize=14)\n",
    "fig.set_facecolor('white')\n",
    "plt.tight_layout()\n",
    "plt.show()\n"
   ]
  },
  {
   "cell_type": "code",
   "execution_count": 11,
   "id": "14284a60-5f9f-4702-8fed-f7b0b758017a",
   "metadata": {},
   "outputs": [
    {
     "name": "stdout",
     "output_type": "stream",
     "text": [
      "Billing Amount 음수 값 갯수 : 108\n"
     ]
    }
   ],
   "source": [
    "# Billin Amount 박스 플롯에서 음수값 존재 가능성 확인\n",
    "minus_BA =  (health_pd['Billing Amount'] < 0).sum()\n",
    "print(f'Billing Amount 음수 값 갯수 : {minus_BA}')"
   ]
  },
  {
   "cell_type": "markdown",
   "id": "f0dd5379-1ab2-4cd9-97c5-213aaf5dedb4",
   "metadata": {},
   "source": [
    "박스 플롯의 결과 Age 컬럼의 이상치는 없다고 판단<br>\n",
    "하지만 Billing Amount의 경우 음수값이 나왔고,<br>\n",
    "Age에 비해 스케일이 너무 크다고 판단<br>\n",
    "음수 값의 갯수는 108개로 제거했을 때 모델 학습에 큰 영향을 끼치지 않을 것이라 판단 <br>\n",
    "음수 값은 제거 후 로그 스케일을 통해 정규성 확보 예정 "
   ]
  },
  {
   "cell_type": "code",
   "execution_count": 12,
   "id": "9c2a3f59-72a2-4315-a281-b33fbbf71a3f",
   "metadata": {},
   "outputs": [
    {
     "name": "stdout",
     "output_type": "stream",
     "text": [
      " Billing Amount 전처리 확인 음수값 확인 \n",
      "+---+------+----------+-----------------+-----------------+--------------+--------------+--------------+----------+------------+------------------+\n",
      "|Age|Gender|Blood Type|Medical Condition|Date of Admission|Billing Amount|Admission Type|Discharge Date|Medication|Test Results|log_Billing_Amount|\n",
      "+---+------+----------+-----------------+-----------------+--------------+--------------+--------------+----------+------------+------------------+\n",
      "+---+------+----------+-----------------+-----------------+--------------+--------------+--------------+----------+------------+------------------+\n",
      "\n"
     ]
    }
   ],
   "source": [
    "# Billing Amount 전처리\n",
    "health_df = health_df.filter(col('Billing Amount') >= 0)\n",
    "health_df = health_df.withColumn('log_Billing_Amount', log1p(col('Billing Amount'))) \n",
    "print(' Billing Amount 전처리 확인 음수값 확인 ')\n",
    "health_df.filter(col('Billing Amount')< 0 ).show()"
   ]
  },
  {
   "cell_type": "code",
   "execution_count": 13,
   "id": "e0426151-0ca5-4184-b269-8f8401413b2c",
   "metadata": {},
   "outputs": [
    {
     "data": {
      "text/plain": [
       "Medical Condition\n",
       "Arthritis       9308\n",
       "Diabetes        9304\n",
       "Hypertension    9245\n",
       "Obesity         9231\n",
       "Cancer          9227\n",
       "Asthma          9185\n",
       "Name: count, dtype: int64"
      ]
     },
     "execution_count": 13,
     "metadata": {},
     "output_type": "execute_result"
    }
   ],
   "source": [
    "# Medical Condition EDA\n",
    "health_pd['Medical Condition'].value_counts(dropna=False)"
   ]
  },
  {
   "cell_type": "markdown",
   "id": "60364f24-10ae-4206-8d47-b0b7434e7f4d",
   "metadata": {},
   "source": [
    "Medical Condition 결과값 정리<br>\n",
    "Arthritis : 관절염<br> \n",
    "Diabetes : 당뇨병<br>\n",
    "Hypertension : 고혈압<br>    \n",
    "Obesity : 비만<br>         \n",
    "Cancer : 암<br>\n",
    "Asthma : 천식"
   ]
  },
  {
   "cell_type": "markdown",
   "id": "6cc6ca0f-1fda-4697-a20e-3883868c1eee",
   "metadata": {},
   "source": [
    "Medical Condition의 경우 원 - 핫 인코딩 예정  "
   ]
  },
  {
   "cell_type": "code",
   "execution_count": 14,
   "id": "b5f3fb55-7ce3-47f7-bd0d-c55b0e88514b",
   "metadata": {},
   "outputs": [
    {
     "data": {
      "text/plain": [
       "Admission Type\n",
       "Elective     18655\n",
       "Urgent       18576\n",
       "Emergency    18269\n",
       "Name: count, dtype: int64"
      ]
     },
     "execution_count": 14,
     "metadata": {},
     "output_type": "execute_result"
    }
   ],
   "source": [
    "# Admission Type EDA\n",
    "health_pd['Admission Type'].value_counts(dropna=False) "
   ]
  },
  {
   "cell_type": "markdown",
   "id": "45642973-988b-4cd8-8542-1839d5ab8254",
   "metadata": {},
   "source": [
    "Admission Type 결과값 정리<br>\n",
    "Elective : 선택적<br>\n",
    "Urgent : 긴급<br>\n",
    "Emergency : 응급"
   ]
  },
  {
   "cell_type": "markdown",
   "id": "a4e4a745-616a-4743-83b8-e22005a2653a",
   "metadata": {},
   "source": [
    "Admission Type의 경우 원 - 핫 인코딩 예정"
   ]
  },
  {
   "cell_type": "code",
   "execution_count": 15,
   "id": "3bef3f87-85c7-4b0e-bc6a-f329b939b398",
   "metadata": {},
   "outputs": [
    {
     "data": {
      "text/plain": [
       "Medication\n",
       "Lipitor        11140\n",
       "Ibuprofen      11127\n",
       "Aspirin        11094\n",
       "Paracetamol    11071\n",
       "Penicillin     11068\n",
       "Name: count, dtype: int64"
      ]
     },
     "execution_count": 15,
     "metadata": {},
     "output_type": "execute_result"
    }
   ],
   "source": [
    "# Medication EDA\n",
    "health_pd['Medication'].value_counts(dropna=False)"
   ]
  },
  {
   "cell_type": "markdown",
   "id": "94f35587-c832-41fc-9353-6fc0bd1f5765",
   "metadata": {},
   "source": [
    "Medication 결과값 정리<br>\n",
    "Lipitor : 리피토<br>\n",
    "Ibuprofen : 이부프로펜<br>\n",
    "Aspirin : 아스피린<br>\n",
    "Paracetamol : 파라세타몰<br>\n",
    "Penicillin : 페니실린<Br>"
   ]
  },
  {
   "cell_type": "markdown",
   "id": "99beca68-544f-41df-bea1-5648cd837e95",
   "metadata": {},
   "source": [
    "Medication의 경우 원 - 핫 인코딩 예정"
   ]
  },
  {
   "cell_type": "code",
   "execution_count": 16,
   "id": "33ae5c9f-4baa-4594-afbd-566475470835",
   "metadata": {},
   "outputs": [
    {
     "name": "stdout",
     "output_type": "stream",
     "text": [
      "[('Date of Admission', 'date'), ('Discharge Date', 'date')]\n"
     ]
    }
   ],
   "source": [
    "# 입원일과 퇴원일의 타입을 확인\n",
    "print(health_df[['Date of Admission', 'Discharge Date']].dtypes)"
   ]
  },
  {
   "cell_type": "code",
   "execution_count": 17,
   "id": "92d091b7-804e-463d-8ee1-532fd3be1988",
   "metadata": {},
   "outputs": [],
   "source": [
    "# Date of Admission, Discharge Date을 통해 총 입원 기간 컬럼 생성 \n",
    "health_df = health_df.withColumn(\n",
    "    'Total_Period',\n",
    "    datediff(col('Discharge Date'), col('Date of Admission'))\n",
    ")"
   ]
  },
  {
   "cell_type": "code",
   "execution_count": 18,
   "id": "e84d3c6f-b5ce-499a-a236-1456526da8d9",
   "metadata": {},
   "outputs": [
    {
     "data": {
      "image/png": "[encoded data removed]",
      "text/plain": [
       "<Figure size 1600x800 with 1 Axes>"
      ]
     },
     "metadata": {},
     "output_type": "display_data"
    }
   ],
   "source": [
    "# total_period EDA\n",
    "health_pd1 = health_df.toPandas()\n",
    "sns.set(style=\"whitegrid\")\n",
    "plt.figure(figsize=(16, 8))\n",
    "\n",
    "plt.subplot(2, 3, 3)\n",
    "sns.histplot(health_pd1[\"Total_Period\"], bins=30, kde=True, color=\"skyblue\")\n",
    "plt.title(\"Total_perid\")\n",
    "\n",
    "\n",
    "plt.tight_layout()\n",
    "plt.show()"
   ]
  },
  {
   "cell_type": "markdown",
   "id": "01584d85-1c56-4d08-9f03-259bb1aa89f6",
   "metadata": {},
   "source": [
    "나이, 가격, 원핫인코딩이 예정되어 있는 점을 고려했을 때 Total_Period의 값의 규모가 크다고 판단,<br>\n",
    "로그 변환을 실시 "
   ]
  },
  {
   "cell_type": "code",
   "execution_count": 19,
   "id": "0f3db8fe-3fdb-45a7-b34b-4c47cf0cbc86",
   "metadata": {},
   "outputs": [],
   "source": [
    "# Total_Period로그 변환 전처리\n",
    "health_df = health_df.withColumn('log_Total_Period',log1p(col('Total_Period')))"
   ]
  },
  {
   "cell_type": "code",
   "execution_count": 20,
   "id": "630afb05-8350-4e84-a4b3-53710b3c8a56",
   "metadata": {},
   "outputs": [
    {
     "name": "stdout",
     "output_type": "stream",
     "text": [
      "+------+-----+\n",
      "|Gender|count|\n",
      "+------+-----+\n",
      "|Female|27666|\n",
      "|  Male|27726|\n",
      "+------+-----+\n",
      "\n",
      "+----------+-----+\n",
      "|Blood Type|count|\n",
      "+----------+-----+\n",
      "|       AB+| 6937|\n",
      "|        O+| 6905|\n",
      "|       AB-| 6929|\n",
      "|        A-| 6953|\n",
      "|        O-| 6860|\n",
      "|        B+| 6936|\n",
      "|        A+| 6939|\n",
      "|        B-| 6933|\n",
      "+----------+-----+\n",
      "\n"
     ]
    }
   ],
   "source": [
    "# Blood Type과 Gender EDA\n",
    "health_df.groupBy('Gender').count().show()\n",
    "health_df.groupBy('Blood Type').count().show()"
   ]
  },
  {
   "cell_type": "markdown",
   "id": "eca2db67-6e79-4f11-966a-c60e47d19b89",
   "metadata": {},
   "source": [
    "성별과 혈액형의 경우 원 - 핫 인코딩 적용 예정 "
   ]
  },
  {
   "cell_type": "code",
   "execution_count": 21,
   "id": "eac6179c-0575-437e-aaaa-6e1f9c09f4fd",
   "metadata": {},
   "outputs": [
    {
     "data": {
      "text/plain": [
       "Test Results\n",
       "Abnormal        18589\n",
       "Normal          18488\n",
       "Inconclusive    18315\n",
       "Name: count, dtype: int64"
      ]
     },
     "execution_count": 21,
     "metadata": {},
     "output_type": "execute_result"
    }
   ],
   "source": [
    "# 타겟인 Test Results EDA\n",
    "health_pd1['Test Results'].value_counts(dropna=False)"
   ]
  },
  {
   "cell_type": "markdown",
   "id": "db033767-ce9c-42e2-801f-32660b8c1069",
   "metadata": {},
   "source": [
    "타겟 변수인 Test Results EDA 결과 라벨 인코딩이 실시 예정"
   ]
  },
  {
   "cell_type": "code",
   "execution_count": 22,
   "id": "6ea57fa0-08d5-436a-9d28-e1f682c9a1c9",
   "metadata": {},
   "outputs": [
    {
     "name": "stdout",
     "output_type": "stream",
     "text": [
      "+------------+----------------+\n",
      "|Test Results|Test_Results_idx|\n",
      "+------------+----------------+\n",
      "|      Normal|             1.0|\n",
      "|Inconclusive|             2.0|\n",
      "|      Normal|             1.0|\n",
      "|    Abnormal|             0.0|\n",
      "|    Abnormal|             0.0|\n",
      "+------------+----------------+\n",
      "only showing top 5 rows\n",
      "\n"
     ]
    }
   ],
   "source": [
    "indexer = StringIndexer(inputCol='Test Results', outputCol='Test_Results_idx', handleInvalid='keep')\n",
    "health_df = indexer.fit(health_df).transform(health_df)\n",
    "\n",
    "# 결과 확인\n",
    "health_df.select('Test Results', 'Test_Results_idx').show(5)"
   ]
  },
  {
   "cell_type": "code",
   "execution_count": 24,
   "id": "15bf4ec1-9e02-4cd9-97b1-ea5bb87f7b32",
   "metadata": {},
   "outputs": [],
   "source": [
    "# Medical Condition, Admission Type, Medication 전처리 원 - 핫 인코딩 파이프라인\n",
    "\n",
    "categorical_cols = ['Medical Condition', 'Admission Type', 'Medication', 'Gender', 'Blood Type']\n",
    "\n",
    "indexers = [\n",
    "    StringIndexer(inputCol=col, outputCol=col + '_idx', handleInvalid='keep')\n",
    "    for col in categorical_cols\n",
    "]\n",
    "encoders = [\n",
    "    OneHotEncoder(inputCol=col + '_idx', outputCol=col + '_OHE')\n",
    "    for col in categorical_cols\n",
    "]\n",
    "\n",
    "# 파이프라인 생성\n",
    "pipeline = Pipeline(stages=indexers + encoders)\n",
    "\n",
    "# 데이터에 fit & transform (health_df는 기존 DataFrame)\n",
    "pipeline_model = pipeline.fit(health_df)\n",
    "encoded_df = pipeline_model.transform(health_df)"
   ]
  },
  {
   "cell_type": "code",
   "execution_count": 25,
   "id": "6d48923f-c682-4335-bb5d-c3225a97db35",
   "metadata": {
    "scrolled": true
   },
   "outputs": [
    {
     "name": "stdout",
     "output_type": "stream",
     "text": [
      "root\n",
      " |-- Age: integer (nullable = true)\n",
      " |-- Gender: string (nullable = true)\n",
      " |-- Blood Type: string (nullable = true)\n",
      " |-- Medical Condition: string (nullable = true)\n",
      " |-- Date of Admission: date (nullable = true)\n",
      " |-- Billing Amount: double (nullable = true)\n",
      " |-- Admission Type: string (nullable = true)\n",
      " |-- Discharge Date: date (nullable = true)\n",
      " |-- Medication: string (nullable = true)\n",
      " |-- Test Results: string (nullable = true)\n",
      " |-- log_Billing_Amount: double (nullable = true)\n",
      " |-- Total_Period: integer (nullable = true)\n",
      " |-- log_Total_Period: double (nullable = true)\n",
      " |-- Test_Results_idx: double (nullable = false)\n",
      " |-- Medical Condition_idx: double (nullable = false)\n",
      " |-- Admission Type_idx: double (nullable = false)\n",
      " |-- Medication_idx: double (nullable = false)\n",
      " |-- Gender_idx: double (nullable = false)\n",
      " |-- Blood Type_idx: double (nullable = false)\n",
      " |-- Medical Condition_OHE: vector (nullable = true)\n",
      " |-- Admission Type_OHE: vector (nullable = true)\n",
      " |-- Medication_OHE: vector (nullable = true)\n",
      " |-- Gender_OHE: vector (nullable = true)\n",
      " |-- Blood Type_OHE: vector (nullable = true)\n",
      "\n"
     ]
    }
   ],
   "source": [
    "# 결과 확인\n",
    "encoded_df.printSchema()"
   ]
  },
  {
   "cell_type": "markdown",
   "id": "593307dd-9922-47db-a896-82da8c05086f",
   "metadata": {},
   "source": [
    "사용 컬럼들 총 정리<br>\n",
    "    'Age', 'log_Billing_Amount', 'log_Total_Period', <br>\n",
    "    'Medical Condition_OHE', 'Admission Type_OHE', 'Medication_OHE',<br>\n",
    "    'Gender_OHE','Blood Type_OHE'"
   ]
  },
  {
   "cell_type": "code",
   "execution_count": 26,
   "id": "aa256864-07dd-4b45-8460-137752f28087",
   "metadata": {},
   "outputs": [],
   "source": [
    "# VectorAssembler, StandardScaler 전처리 \n",
    "numeric_features = ['Age', 'log_Billing_Amount', 'log_Total_Period']\n",
    "assembler_num = VectorAssembler(inputCols=numeric_features, outputCol='num_features')\n",
    "scaler = StandardScaler(inputCol='num_features', outputCol='num_features_scaled')\n",
    "\n",
    "# features 조합\n",
    "assemblered = VectorAssembler(\n",
    "    inputCols=['num_features_scaled', 'Medical Condition_OHE', 'Admission Type_OHE', 'Medication_OHE', 'Gender_OHE', 'Blood Type_OHE'],\n",
    "    outputCol='features'\n",
    ")"
   ]
  },
  {
   "cell_type": "code",
   "execution_count": 31,
   "id": "f4f8d916-4f29-43b0-bb8d-83d422b37e25",
   "metadata": {},
   "outputs": [],
   "source": [
    "# stages 리스트 추가\n",
    "stages = indexers + encoders + [assembler_num, scaler, assemblered]"
   ]
  },
  {
   "cell_type": "markdown",
   "id": "5df7f43a-6d6f-41fb-8271-f4632a999e6e",
   "metadata": {},
   "source": [
    "# 3. 모델링"
   ]
  },
  {
   "cell_type": "code",
   "execution_count": 32,
   "id": "6f837f83-b682-47fe-bbd9-0b821b54a5be",
   "metadata": {},
   "outputs": [],
   "source": [
    "pipeline = Pipeline(stages=stages)\n",
    "pipeline_model = pipeline.fit(health_df)\n",
    "final_df = pipeline_model.transform(health_df)"
   ]
  },
  {
   "cell_type": "code",
   "execution_count": 34,
   "id": "1bbbc926-697a-4095-afd4-da0931a5660e",
   "metadata": {},
   "outputs": [
    {
     "name": "stdout",
     "output_type": "stream",
     "text": [
      "root\n",
      " |-- Age: integer (nullable = true)\n",
      " |-- Gender: string (nullable = true)\n",
      " |-- Blood Type: string (nullable = true)\n",
      " |-- Medical Condition: string (nullable = true)\n",
      " |-- Date of Admission: date (nullable = true)\n",
      " |-- Billing Amount: double (nullable = true)\n",
      " |-- Admission Type: string (nullable = true)\n",
      " |-- Discharge Date: date (nullable = true)\n",
      " |-- Medication: string (nullable = true)\n",
      " |-- Test Results: string (nullable = true)\n",
      " |-- log_Billing_Amount: double (nullable = true)\n",
      " |-- Total_Period: integer (nullable = true)\n",
      " |-- log_Total_Period: double (nullable = true)\n",
      " |-- Test_Results_idx: double (nullable = false)\n",
      " |-- Medical Condition_idx: double (nullable = false)\n",
      " |-- Admission Type_idx: double (nullable = false)\n",
      " |-- Medication_idx: double (nullable = false)\n",
      " |-- Gender_idx: double (nullable = false)\n",
      " |-- Blood Type_idx: double (nullable = false)\n",
      " |-- Medical Condition_OHE: vector (nullable = true)\n",
      " |-- Admission Type_OHE: vector (nullable = true)\n",
      " |-- Medication_OHE: vector (nullable = true)\n",
      " |-- Gender_OHE: vector (nullable = true)\n",
      " |-- Blood Type_OHE: vector (nullable = true)\n",
      " |-- num_features: vector (nullable = true)\n",
      " |-- num_features_scaled: vector (nullable = true)\n",
      " |-- features: vector (nullable = true)\n",
      "\n"
     ]
    }
   ],
   "source": [
    "# 학습에 불필요한 컬럼 확인\n",
    "final_df.printSchema()"
   ]
  },
  {
   "cell_type": "code",
   "execution_count": 35,
   "id": "9f4fbe26-4254-464e-a2e6-5e7b1b6f8124",
   "metadata": {},
   "outputs": [],
   "source": [
    "final_df = final_df.select('features', 'Test_Results_idx')"
   ]
  },
  {
   "cell_type": "code",
   "execution_count": 36,
   "id": "08fc4bf0-5a8b-4486-be98-c77431c65482",
   "metadata": {},
   "outputs": [
    {
     "name": "stdout",
     "output_type": "stream",
     "text": [
      "+---------------------------------------------------------------------------------------------------------+\n",
      "|features                                                                                                 |\n",
      "+---------------------------------------------------------------------------------------------------------+\n",
      "|(27,[0,1,2,7,10,15,17,23],[1.5304525425594289,11.655743438591237,1.5417772235329068,1.0,1.0,1.0,1.0,1.0])|\n",
      "|(27,[0,1,2,6,11,13,17,20],[3.1629352546228198,12.341195477165444,2.7308632697821142,1.0,1.0,1.0,1.0,1.0])|\n",
      "|(27,[0,1,2,6,11,14,18,19],[3.877146441150553,12.121913967296086,3.891012494822811,1.0,1.0,1.0,1.0,1.0])  |\n",
      "|(27,[0,1,2,4,9,13,18,25],[1.428422373055467,12.482550576488512,4.8192099363801,1.0,1.0,1.0,1.0,1.0])     |\n",
      "|(27,[0,1,2,7,10,16,18,21],[2.1936486443351817,11.323176512601892,4.272640493315021,1.0,1.0,1.0,1.0,1.0]) |\n",
      "+---------------------------------------------------------------------------------------------------------+\n",
      "only showing top 5 rows\n",
      "\n"
     ]
    }
   ],
   "source": [
    "final_df.select('features').show(5, truncate=False)"
   ]
  },
  {
   "cell_type": "code",
   "execution_count": 37,
   "id": "a1b723d9-5325-422b-802b-0256e8b18638",
   "metadata": {},
   "outputs": [],
   "source": [
    "train_data, test_data = final_df.randomSplit([0.8,0.2], seed=42)"
   ]
  },
  {
   "cell_type": "markdown",
   "id": "38c6c640-7e69-485c-82dd-5e64ceddd99c",
   "metadata": {},
   "source": [
    "### LogisticRegression 모델"
   ]
  },
  {
   "cell_type": "code",
   "execution_count": 41,
   "id": "b7af850d-328c-4367-b616-c457f5cc0bd7",
   "metadata": {},
   "outputs": [],
   "source": [
    "lr = LogisticRegression(featuresCol='features', labelCol='Test_Results_idx')\n",
    "lr_model = lr.fit(train_data)\n",
    "lr_model_v = lr_model.transform(test_data)"
   ]
  },
  {
   "cell_type": "code",
   "execution_count": 44,
   "id": "3dfaeb7a-e9b6-4a71-9a4d-5430b13c6357",
   "metadata": {},
   "outputs": [
    {
     "name": "stdout",
     "output_type": "stream",
     "text": [
      "정확도 (Accuracy): 0.3329\n",
      "F1-score (macro): 0.3309\n"
     ]
    }
   ],
   "source": [
    "# Accuracy 계산\n",
    "accuracy_evaluator = MulticlassClassificationEvaluator(\n",
    "    labelCol='Test_Results_idx',   \n",
    "    predictionCol='prediction',    \n",
    "    metricName='accuracy'           \n",
    ")\n",
    "accuracy = accuracy_evaluator.evaluate(lr_model_v)\n",
    "\n",
    "# F1-score 계산\n",
    "f1_evaluator = MulticlassClassificationEvaluator(\n",
    "    labelCol='Test_Results_idx',\n",
    "    predictionCol='prediction',\n",
    "    metricName='f1'                \n",
    ")\n",
    "f1_score = f1_evaluator.evaluate(lr_model_v)\n",
    "\n",
    "print(f\"정확도 (Accuracy): {accuracy:.4f}\")\n",
    "print(f\"F1-score (macro): {f1_score:.4f}\")"
   ]
  },
  {
   "cell_type": "markdown",
   "id": "b206d2e6-1e28-4c8e-b6f9-9647e90563bf",
   "metadata": {},
   "source": [
    "### RandomForestClassifier 모델"
   ]
  },
  {
   "cell_type": "code",
   "execution_count": 46,
   "id": "9ec6ffbd-5727-427b-8e30-2fa1459aecc7",
   "metadata": {},
   "outputs": [],
   "source": [
    "from pyspark.ml.classification import RandomForestClassifier\n",
    "rf = RandomForestClassifier(featuresCol='features', labelCol='Test_Results_idx')\n",
    "rf_model = rf.fit(train_data)\n",
    "rf_model_v = rf_model.transform(test_data)"
   ]
  },
  {
   "cell_type": "code",
   "execution_count": 47,
   "id": "259c8ffe-d02a-4a9d-aed3-c17a59014a11",
   "metadata": {},
   "outputs": [
    {
     "name": "stdout",
     "output_type": "stream",
     "text": [
      "정확도 (Accuracy): 0.3344\n",
      "F1-score (macro): 0.3271\n"
     ]
    }
   ],
   "source": [
    "# Accuracy 계산\n",
    "accuracy_evaluator = MulticlassClassificationEvaluator(\n",
    "    labelCol='Test_Results_idx',   \n",
    "    predictionCol='prediction',    \n",
    "    metricName='accuracy'           \n",
    ")\n",
    "accuracy = accuracy_evaluator.evaluate(rf_model_v)\n",
    "\n",
    "# F1-score 계산\n",
    "f1_evaluator = MulticlassClassificationEvaluator(\n",
    "    labelCol='Test_Results_idx',\n",
    "    predictionCol='prediction',\n",
    "    metricName='f1'                \n",
    ")\n",
    "f1_score = f1_evaluator.evaluate(rf_model_v)\n",
    "\n",
    "print(f\"정확도 (Accuracy): {accuracy:.4f}\")\n",
    "print(f\"F1-score (macro): {f1_score:.4f}\")"
   ]
  },
  {
   "cell_type": "markdown",
   "id": "96508311-7b2e-42bd-8311-c9de432c1c5b",
   "metadata": {},
   "source": [
    "### DecisionTreeClassifier 모델"
   ]
  },
  {
   "cell_type": "code",
   "execution_count": 53,
   "id": "99dbc4d9-5275-42df-9a65-2efc23e8b9f0",
   "metadata": {},
   "outputs": [],
   "source": [
    "dt = DecisionTreeClassifier(featuresCol='features', labelCol='Test_Results_idx')\n",
    "dt_model = dt.fit(train_data)\n",
    "dt_model_v = dt_model.transform(test_data)"
   ]
  },
  {
   "cell_type": "code",
   "execution_count": 54,
   "id": "8b9164ac-5540-4c3d-9c01-7ea72c892100",
   "metadata": {},
   "outputs": [
    {
     "name": "stdout",
     "output_type": "stream",
     "text": [
      "정확도 (Accuracy): 0.3339\n",
      "F1-score (macro): 0.3051\n"
     ]
    }
   ],
   "source": [
    "# Accuracy 계산\n",
    "accuracy_evaluator = MulticlassClassificationEvaluator(\n",
    "    labelCol='Test_Results_idx',   \n",
    "    predictionCol='prediction',    \n",
    "    metricName='accuracy'           \n",
    ")\n",
    "accuracy = accuracy_evaluator.evaluate(dt_model_v)\n",
    "\n",
    "# F1-score 계산\n",
    "f1_evaluator = MulticlassClassificationEvaluator(\n",
    "    labelCol='Test_Results_idx',\n",
    "    predictionCol='prediction',\n",
    "    metricName='f1'                \n",
    ")\n",
    "f1_score = f1_evaluator.evaluate(dt_model_v)\n",
    "\n",
    "print(f\"정확도 (Accuracy): {accuracy:.4f}\")\n",
    "print(f\"F1-score (macro): {f1_score:.4f}\")"
   ]
  },
  {
   "cell_type": "code",
   "execution_count": null,
   "id": "a783b18e-4dde-46ba-984f-2ce918ffdde9",
   "metadata": {},
   "outputs": [],
   "source": []
  }
 ],
 "metadata": {
  "kernelspec": {
   "display_name": "Python 3 (ipykernel)",
   "language": "python",
   "name": "python3"
  },
  "language_info": {
   "codemirror_mode": {
    "name": "ipython",
    "version": 3
   },
   "file_extension": ".py",
   "mimetype": "text/x-python",
   "name": "python",
   "nbconvert_exporter": "python",
   "pygments_lexer": "ipython3",
   "version": "3.11.6"
  }
 },
 "nbformat": 4,
 "nbformat_minor": 5
}
